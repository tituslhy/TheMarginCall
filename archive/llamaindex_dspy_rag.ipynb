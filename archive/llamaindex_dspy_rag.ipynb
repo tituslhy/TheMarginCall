{
 "cells": [
  {
   "cell_type": "code",
   "execution_count": 1,
   "metadata": {},
   "outputs": [],
   "source": [
    "%load_ext autoreload\n",
    "%autoreload 2"
   ]
  },
  {
   "cell_type": "code",
   "execution_count": 2,
   "metadata": {},
   "outputs": [],
   "source": [
    "import os\n",
    "from dotenv import load_dotenv, find_dotenv\n",
    "import nest_asyncio\n",
    "import warnings\n",
    "\n",
    "_ = load_dotenv(find_dotenv())\n",
    "nest_asyncio.apply()\n",
    "warnings.filterwarnings('ignore')"
   ]
  },
  {
   "cell_type": "markdown",
   "metadata": {},
   "source": [
    "## Instantiate signature"
   ]
  },
  {
   "cell_type": "code",
   "execution_count": 22,
   "metadata": {},
   "outputs": [],
   "source": [
    "import dspy\n",
    "\n",
    "bedrock = dspy.Bedrock(region_name=\"us-east-1\")\n",
    "lm = dspy.AWSAnthropic(bedrock, \n",
    "                       \"anthropic.claude-3-5-sonnet-20240620-v1:0\")\n",
    "dspy.settings.configure(lm=lm)"
   ]
  },
  {
   "cell_type": "code",
   "execution_count": 4,
   "metadata": {},
   "outputs": [],
   "source": [
    "class GenerateAnswer(dspy.Signature):\n",
    "    \"\"\"Answers questions with short factoid answers.\"\"\"\n",
    "    \n",
    "    context_str = dspy.InputField(desc=\"contains relevant facts\")\n",
    "    query_str = dspy.InputField()\n",
    "    answer = dspy.OutputField(desc = \"Often between 3 to 5 sentences.\")"
   ]
  },
  {
   "cell_type": "markdown",
   "metadata": {},
   "source": [
    "## Instantiate retriever"
   ]
  },
  {
   "cell_type": "code",
   "execution_count": 5,
   "metadata": {},
   "outputs": [],
   "source": [
    "from llama_index.readers.web import SimpleWebPageReader\n",
    "from llama_index.core import (\n",
    "    Settings,\n",
    "    VectorStoreIndex,\n",
    "    StorageContext,\n",
    "    load_index_from_storage\n",
    ")\n",
    "from llama_index.llms.bedrock_converse import BedrockConverse\n",
    "from llama_index.embeddings.bedrock import BedrockEmbedding\n",
    "from IPython.display import Markdown, display"
   ]
  },
  {
   "cell_type": "markdown",
   "metadata": {},
   "source": [
    "## Creating Retriever"
   ]
  },
  {
   "cell_type": "code",
   "execution_count": 6,
   "metadata": {},
   "outputs": [],
   "source": [
    "Settings.llm = BedrockConverse(\n",
    "    model = \"anthropic.claude-3-5-sonnet-20240620-v1:0\",\n",
    "    aws_access_key_id = os.environ[\"AWS_ACCESS_KEY\"],\n",
    "    aws_secret_access_key = os.environ[\"AWS_SECRET_ACCESS_KEY\"],\n",
    "    region_name = \"us-east-1\"\n",
    ")\n",
    "Settings.embed_model = BedrockEmbedding(\n",
    "    model = \"amazon.titan-embed-text-v1\",\n",
    "    aws_access_key_id = os.environ[\"AWS_ACCESS_KEY\"],\n",
    "    aws_secret_access_key = os.environ[\"AWS_SECRET_ACCESS_KEY\"],\n",
    "    aws_region_name = os.environ[\"AWS_DEFAULT_REGION\"]\n",
    ")"
   ]
  },
  {
   "cell_type": "code",
   "execution_count": 7,
   "metadata": {},
   "outputs": [],
   "source": [
    "from llama_index.readers.web import SimpleWebPageReader\n",
    "import requests\n",
    "from llama_index.core import Document\n",
    "\n",
    "class CustomWebPageReader(SimpleWebPageReader):\n",
    "    \"\"\"\n",
    "    Many websites, including Investopedia, require headers like User-Agent to be set in the request to return the correct content.\n",
    "    To fix this, we'll modify the load_data method in the SimpleWebPageReader class to include appropriate headers.\n",
    "    \"\"\"\n",
    "    \n",
    "    def load_data(self, urls):\n",
    "        if not isinstance(urls, list):\n",
    "            raise ValueError(\"urls must be a list of strings.\")\n",
    "        documents = []\n",
    "        headers = {\n",
    "            'User-Agent': 'Mozilla/5.0 (Windows NT 10.0; Win64; x64) AppleWebKit/537.36 (KHTML, like Gecko) Chrome/58.0.3029.110 Safari/537.3'\n",
    "        }\n",
    "        for url in urls:\n",
    "            response = requests.get(url, headers=headers).text\n",
    "            if self.html_to_text:\n",
    "                import html2text\n",
    "                response = html2text.html2text(response)\n",
    "\n",
    "            metadata = None\n",
    "            if self._metadata_fn is not None:\n",
    "                metadata = self._metadata_fn(url)\n",
    "\n",
    "            documents.append(Document(text=response, id_=url, metadata=metadata or {}))\n",
    "\n",
    "        return documents\n",
    "\n",
    "links = [\n",
    "    \"https://www.investopedia.com/terms/s/stockmarket.asp\",\n",
    "    \"https://www.investopedia.com/ask/answers/difference-between-options-and-futures/\",\n",
    "    \"https://www.investopedia.com/financial-edge/0411/5-essential-things-you-need-to-know-about-every-stock-you-buy.aspx\",\n",
    "    \"https://www.investopedia.com/articles/fundamental/04/063004.asp\",\n",
    "    \"https://www.investopedia.com/terms/t/technicalanalysis.asp\",\n",
    "    \"https://www.investopedia.com/terms/i/ichimoku-cloud.asp\",\n",
    "    \"https://www.investopedia.com/terms/a/aroon.asp\",  \n",
    "    \"https://www.investopedia.com/terms/b/bollingerbands.asp\",\n",
    "    \"https://www.investopedia.com/articles/forex/05/macddiverge.asp\",\n",
    "    \"https://www.investopedia.com/terms/a/accumulationdistribution.asp\",\n",
    "    \"https://www.investopedia.com/terms/s/stochasticoscillator.asp\",\n",
    "    \"https://www.investopedia.com/terms/s/stochrsi.asp\",\n",
    "    \"https://www.investopedia.com/terms/p/price-earningsratio.asp\",\n",
    "    \"https://www.investopedia.com/terms/p/price-to-bookratio.asp\",\n",
    "    \"https://www.investopedia.com/terms/p/price-to-salesratio.asp\",\n",
    "    \"https://www.investopedia.com/terms/q/quickratio.asp\"\n",
    "]"
   ]
  },
  {
   "cell_type": "code",
   "execution_count": 8,
   "metadata": {},
   "outputs": [],
   "source": [
    "docs = CustomWebPageReader(\n",
    "    html_to_text=True\n",
    ").load_data(urls=links)"
   ]
  },
  {
   "cell_type": "markdown",
   "metadata": {},
   "source": [
    "## Qdrant "
   ]
  },
  {
   "cell_type": "code",
   "execution_count": 10,
   "metadata": {},
   "outputs": [],
   "source": [
    "import qdrant_client\n",
    "from llama_index.vector_stores.qdrant import QdrantVectorStore"
   ]
  },
  {
   "cell_type": "code",
   "execution_count": 11,
   "metadata": {},
   "outputs": [
    {
     "name": "stderr",
     "output_type": "stream",
     "text": [
      "Both client and aclient are provided. If using `:memory:` mode, the data between clients is not synced.\n"
     ]
    },
    {
     "data": {
      "application/vnd.jupyter.widget-view+json": {
       "model_id": "41b517b8d9b744beacd43c47f4a56f0c",
       "version_major": 2,
       "version_minor": 0
      },
      "text/plain": [
       "Fetching 6 files:   0%|          | 0/6 [00:00<?, ?it/s]"
      ]
     },
     "metadata": {},
     "output_type": "display_data"
    },
    {
     "data": {
      "application/vnd.jupyter.widget-view+json": {
       "model_id": "79449c8fb18e4cb48dd113b230b951d0",
       "version_major": 2,
       "version_minor": 0
      },
      "text/plain": [
       "Fetching 6 files:   0%|          | 0/6 [00:00<?, ?it/s]"
      ]
     },
     "metadata": {},
     "output_type": "display_data"
    },
    {
     "data": {
      "application/vnd.jupyter.widget-view+json": {
       "model_id": "0f4bb4ae311d404cb0ed0de2010ba4ab",
       "version_major": 2,
       "version_minor": 0
      },
      "text/plain": [
       "Fetching 6 files:   0%|          | 0/6 [00:00<?, ?it/s]"
      ]
     },
     "metadata": {},
     "output_type": "display_data"
    },
    {
     "data": {
      "application/vnd.jupyter.widget-view+json": {
       "model_id": "4a89740dd18a42039cc2d1c636110f46",
       "version_major": 2,
       "version_minor": 0
      },
      "text/plain": [
       "Fetching 6 files:   0%|          | 0/6 [00:00<?, ?it/s]"
      ]
     },
     "metadata": {},
     "output_type": "display_data"
    }
   ],
   "source": [
    "client = qdrant_client.QdrantClient(\"http://localhost:6333\")\n",
    "aclient = qdrant_client.AsyncQdrantClient(\"http://localhost:6333\")\n",
    "\n",
    "if client.collection_exists(\"investopedia\"):\n",
    "    client.delete_collection(\"investopedia\")\n",
    "\n",
    "vector_store = QdrantVectorStore(\n",
    "    collection_name=\"investopedia\",\n",
    "    client=client,\n",
    "    aclient=aclient,\n",
    "    fastembed_sparse_model=\"Qdrant/bm42-all-minilm-l6-v2-attentions\",\n",
    ")"
   ]
  },
  {
   "cell_type": "code",
   "execution_count": 12,
   "metadata": {},
   "outputs": [],
   "source": [
    "storage_context = StorageContext.from_defaults(vector_store=vector_store)\n",
    "index = VectorStoreIndex.from_documents(\n",
    "    docs,\n",
    "    embed_model = Settings.embed_model,\n",
    "    storage_context = storage_context\n",
    ")"
   ]
  },
  {
   "cell_type": "markdown",
   "metadata": {},
   "source": [
    "Test"
   ]
  },
  {
   "cell_type": "code",
   "execution_count": 15,
   "metadata": {},
   "outputs": [
    {
     "data": {
      "text/markdown": [
       "<b>It's difficult to say that one indicator is definitively more important than the other, as they serve different purposes and can be useful in different situations. \n",
       "\n",
       "The Stochastic RSI is a momentum oscillator that measures the level of the RSI relative to its high-low range over a set time period. It can be helpful for identifying overbought and oversold conditions as well as potential trend reversals.\n",
       "\n",
       "The Aroon indicator, on the other hand, is designed to identify the beginning of new trends and measure the strength of a trend. It consists of two lines - the Aroon Up and Aroon Down - which can signal when an uptrend or downtrend may be starting.\n",
       "\n",
       "Both indicators can provide valuable information to traders, but they analyze different aspects of price action. The choice between them would depend on a trader's specific strategy, the market being analyzed, and the type of signals they are looking for. Many traders use multiple indicators in combination to get a more comprehensive view of market conditions.\n",
       "\n",
       "Ultimately, the importance of any indicator depends on how well it aligns with an individual trader's needs and trading style. It's generally recommended to thoroughly test and understand any indicator before relying on it for trading decisions.</b>"
      ],
      "text/plain": [
       "<IPython.core.display.Markdown object>"
      ]
     },
     "metadata": {},
     "output_type": "display_data"
    }
   ],
   "source": [
    "qe = index.as_query_engine(similarity_top_k = 4, sparse_top_k = 12, vector_store_query_mode = \"hybrid\")\n",
    "response = qe.query(\"Which is more important, the Aroon indicator or the stochastic RSI?\")\n",
    "display(Markdown(f\"<b>{response}</b>\"))"
   ]
  },
  {
   "cell_type": "code",
   "execution_count": 9,
   "metadata": {},
   "outputs": [],
   "source": [
    "# index = VectorStoreIndex.from_documents(\n",
    "#     docs,\n",
    "#     embed_model=Settings.embed_model,\n",
    "# )"
   ]
  },
  {
   "cell_type": "code",
   "execution_count": 8,
   "metadata": {},
   "outputs": [],
   "source": [
    "# storage_dir = \"./VectorIndex\""
   ]
  },
  {
   "cell_type": "code",
   "execution_count": 36,
   "metadata": {},
   "outputs": [],
   "source": [
    "# index.storage_context.persist(\n",
    "#     persist_dir = storage_dir\n",
    "# )"
   ]
  },
  {
   "cell_type": "code",
   "execution_count": 11,
   "metadata": {},
   "outputs": [],
   "source": [
    "# def load_index(persist_dir=storage_dir, links=links):\n",
    "#     if os.path.exists(persist_dir):\n",
    "#         storage_context = StorageContext.from_defaults(\n",
    "#             persist_dir = storage_dir \n",
    "#         )\n",
    "#         return load_index_from_storage(storage_context)\n",
    "    \n",
    "#     docs = CustomWebPageReader(\n",
    "#         html_to_text=True\n",
    "#     ).load_data(urls=links)\n",
    "#     return VectorStoreIndex.from_documents(docs)"
   ]
  },
  {
   "cell_type": "code",
   "execution_count": 30,
   "metadata": {},
   "outputs": [
    {
     "name": "stderr",
     "output_type": "stream",
     "text": [
      "Both client and aclient are provided. If using `:memory:` mode, the data between clients is not synced.\n"
     ]
    },
    {
     "data": {
      "application/vnd.jupyter.widget-view+json": {
       "model_id": "267336d80b504d60b33f2772fcb60c00",
       "version_major": 2,
       "version_minor": 0
      },
      "text/plain": [
       "Fetching 6 files:   0%|          | 0/6 [00:00<?, ?it/s]"
      ]
     },
     "metadata": {},
     "output_type": "display_data"
    },
    {
     "data": {
      "application/vnd.jupyter.widget-view+json": {
       "model_id": "d44d371614d141f08c4623f3670fbe10",
       "version_major": 2,
       "version_minor": 0
      },
      "text/plain": [
       "Fetching 6 files:   0%|          | 0/6 [00:00<?, ?it/s]"
      ]
     },
     "metadata": {},
     "output_type": "display_data"
    },
    {
     "data": {
      "application/vnd.jupyter.widget-view+json": {
       "model_id": "b2392498dcb640968cec40bae47f3ff7",
       "version_major": 2,
       "version_minor": 0
      },
      "text/plain": [
       "Fetching 6 files:   0%|          | 0/6 [00:00<?, ?it/s]"
      ]
     },
     "metadata": {},
     "output_type": "display_data"
    },
    {
     "data": {
      "application/vnd.jupyter.widget-view+json": {
       "model_id": "b3af53e06f6e4396801c2556a300e69d",
       "version_major": 2,
       "version_minor": 0
      },
      "text/plain": [
       "Fetching 6 files:   0%|          | 0/6 [00:00<?, ?it/s]"
      ]
     },
     "metadata": {},
     "output_type": "display_data"
    }
   ],
   "source": [
    "# index = load_index()\n",
    "\n",
    "def load_index(embed_model,\n",
    "               collection_name: str = \"investopedia\", \n",
    "               client_port: int = 6333):\n",
    "    import qdrant_client\n",
    "    from llama_index.vector_stores.qdrant import QdrantVectorStore\n",
    "    \n",
    "    client = qdrant_client.QdrantClient(f\"http://localhost:{client_port}\")\n",
    "    aclient = qdrant_client.AsyncQdrantClient(f\"http://localhost:{client_port}\")\n",
    "    vector_store = QdrantVectorStore(\n",
    "        collection_name = collection_name,\n",
    "        client = client,\n",
    "        aclient = aclient,\n",
    "        fastembed_sparse_model=\"Qdrant/bm42-all-minilm-l6-v2-attentions\",\n",
    "    )\n",
    "    return VectorStoreIndex.from_vector_store(\n",
    "        vector_store,\n",
    "        embed_model = embed_model\n",
    "    )\n",
    "    \n",
    "index = load_index(\n",
    "    embed_model = Settings.embed_model,\n",
    ")"
   ]
  },
  {
   "cell_type": "code",
   "execution_count": 31,
   "metadata": {},
   "outputs": [],
   "source": [
    "retriever = index.as_retriever(\n",
    "    similarity_top_k = 10,\n",
    "    sparse_top_k =10,\n",
    ")"
   ]
  },
  {
   "cell_type": "markdown",
   "metadata": {},
   "source": [
    "## Build query pipeline"
   ]
  },
  {
   "cell_type": "code",
   "execution_count": 17,
   "metadata": {},
   "outputs": [],
   "source": [
    "from llama_index.core.query_pipeline import (\n",
    "    QueryPipeline as QP,\n",
    "    InputComponent,\n",
    "    FnComponent\n",
    ")\n",
    "from dspy.predict.llamaindex import (\n",
    "    DSPyComponent,\n",
    "    LlamaIndexModule\n",
    ")"
   ]
  },
  {
   "cell_type": "code",
   "execution_count": 18,
   "metadata": {},
   "outputs": [],
   "source": [
    "contexts = retriever.retrieve(\"What is technical analysis\")"
   ]
  },
  {
   "cell_type": "code",
   "execution_count": 19,
   "metadata": {},
   "outputs": [
    {
     "data": {
      "text/plain": [
       "'* [Technical analysis](https://www.investopedia.com/terms/t/technical-analyst.asp) may be contrasted with fundamental analysis, which focuses on a company\\'s financials rather than historical price patterns or stock trends.\\n  * Technical analysis was introduced by Charles Dow.\\n\\n![Technical\\nAnalysis](https://www.investopedia.com/thmb/IZujvEzbNudSvo4Z1vXcHHvgzBE=/1500x0/filters:no_upscale\\\\(\\\\):max_bytes\\\\(150000\\\\):strip_icc\\\\(\\\\)/Technical_Analysis_Final-4a96fc1863cf4dbc8a5c6f315ee49871.jpg)\\n\\nInvestopedia / Candra Huff\\n\\n##  Understanding Technical Analysis\\n\\nTechnical analysis is used to scrutinize the ways supply and demand for a\\nsecurity affect changes in price, volume, and implied volatility. It assumes\\nthat past trading activity and price changes of a\\n[security](https://www.investopedia.com/terms/s/security.asp) can be valuable\\nindicators of the security\\'s future price movements when paired with\\nappropriate investing or trading rules.\\n\\nTechnical analysis\\' various charting tools are often used to generate short-\\nterm trading signals. They can also help improve the evaluation of a\\nsecurity\\'s strength or weakness relative to the broader market or one of its\\nsectors. This information helps analysts improve their overall valuation\\nestimate.\\n\\nTechnical analysis as we know it today was first introduced by [Charles\\nDow](https://www.investopedia.com/articles/financial-theory/10/pioneers-\\ntechnical-analysis.asp) as the Dow Theory in the late 1800s. Several\\nnoteworthy researchers including William P. Hamilton, Robert Rhea, Edson\\nGould, and John Magee further contributed to Dow Theory concepts. Nowadays,\\ntechnical analysis has evolved to include hundreds of patterns and signals\\ndeveloped through years of research.\\n\\n###  How Technical Analysis Is Used\\n\\nProfessional analysts often use technical analysis in conjunction with other\\nforms of research. Retail traders may make decisions based solely on the price\\ncharts of a security and similar statistics. But practicing equity analysts\\nrarely limit their research to fundamental or technical analysis alone.  \\n\\nTechnical analysis can be applied to any security with historical trading\\ndata. This includes stocks,\\n[futures](https://www.investopedia.com/terms/f/futures.asp),\\n[commodities](https://www.investopedia.com/terms/c/commodity.asp), fixed-\\nincome securities, currencies, and more. In fact, technical analysis is\\nprevalent in commodities and\\n[forex](https://www.investopedia.com/terms/f/forex.asp) markets where\\n[traders](https://www.investopedia.com/terms/d/daytrader.asp) focus on short-\\nterm price movements.  \\n\\nTechnical analysis attempts to forecast the price movement of virtually any\\ntradable instrument that is generally subject to forces of supply and demand.\\nSome view technical analysis as simply the supply and demand forces reflected\\nby the market price movements of a security.\\n\\nTechnical analysis most commonly applies to price changes, but some analysts\\ntrack numbers other than just price, such as trading volume or open interest\\nfigures.\\n\\n###  Technical Analysis Indicators\\n\\nHundreds of patterns and signals have been developed by researchers to support\\ntechnical analysis trading. Technical analysts have also developed numerous\\ntypes of trading systems to help them forecast and trade on price movements.\\n\\nSome indicators focus primarily on identifying the current market trend,\\nincluding support and resistance areas. Others focus on determining the\\nstrength of a trend and the likelihood of its continuation.\\n\\nCommonly used technical indicators and charting patterns include trendlines,\\nchannels, moving averages, and momentum indicators.\\n\\nIn general, technical analysts look at the following broad types of\\nindicators:\\n\\n  * Price trends\\n  * Chart patterns\\n  * Volume and [momentum](https://www.investopedia.com/investing/momentum-and-relative-strength-index/) indicators\\n  * [Oscillators](https://www.investopedia.com/terms/o/oscillator.asp)\\n  * [Moving averages](https://www.investopedia.com/articles/trading/10/simple-exponential-moving-averages-compare.asp)\\n  * Support and resistance levels\\n\\n###\\n\\nThe CMT Association supports the largest collection of chartered or certified\\nanalysts using technical analysis professionally around the world. The\\nassociation\\'s Chartered Market Technician (CMT) designation can be obtained\\nafter three levels of exams that cover both a broad and deep look at technical\\nanalysis tools.\\n\\n##  Underlying Assumptions of Technical Analysis\\n\\nTechnical analysis attempts to decipher the market sentiment behind price\\ntrends by looking for price patterns and trends.\\n\\nCharles Dow released a series of editorials discussing technical analysis\\ntheory. He had two basic assumptions that continue to form the framework for\\ntechnical analysis trading.\\n\\nThe\\nassociation\\'s Chartered Market Technician (CMT) designation can be obtained\\nafter three levels of exams that cover both a broad and deep look at technical\\nanalysis tools.\\n\\n##  Underlying Assumptions of Technical Analysis\\n\\nTechnical analysis attempts to decipher the market sentiment behind price\\ntrends by looking for price patterns and trends.\\n\\nCharles Dow released a series of editorials discussing technical analysis\\ntheory. He had two basic assumptions that continue to form the framework for\\ntechnical analysis trading.\\n\\n  * Markets are efficient with values that represent factors that influence a security\\'s price.\\n  * Even random market price movements appear to move in identifiable patterns and trends that tend to repeat over time.\\n\\nToday the field of technical analysis builds on Dow\\'s work. Professional\\nanalysts typically accept three general assumptions:\\n\\n  1. **The market discounts everything:** Technical analysts believe that everything from a company\\'s fundamentals to broad market factors to [market psychology](https://www.investopedia.com/terms/m/marketpsychology.asp) is already priced into a stock. The [Efficient Markets Hypothesis (EMH)](https://www.investopedia.com/terms/e/efficientmarkethypothesis.asp) draws a similar conclusion about prices. The only thing remaining is the analysis of price movements, which technical analysts view as the product of supply and demand for a particular stock.\\n  2. **Price moves in trends:** Technical analysts expect that prices, even in random market movements, will exhibit trends regardless of the time frame being observed. In other words, a stock price is more likely to continue a past trend than to move erratically. Most technical trading strategies are based on this assumption.\\n  3. **History tends to repeat itself:** The repetitive nature of price movements is often attributed to market psychology, which tends to be very predictable and based on emotions such as fear and excitement. Technical analysis uses chart patterns to analyze these emotions and subsequent price movements to understand trends. While many forms of technical analysis have been used for more than 100 years, they are believed to be relevant still because they illustrate patterns in price movements that often repeat themselves.\\n\\n##  Fundamental Analysis vs. Technical Analysis\\n\\nFundamental analysis and technical analysis, the major schools of thought when\\nit comes to approaching the markets, are at opposite ends of the spectrum.\\nBoth methods are used to research and [forecast future trends in stock\\nprices](https://www.investopedia.com/terms/t/technical-analysis-of-stocks-and-\\ntrends.asp), and like any investment strategy or philosophy, both have their\\nadvocates and adversaries.\\n\\n###  Fundamental Analysis\\n\\nFundamental analysis is a method of evaluating securities by attempting to\\nmeasure the [intrinsic\\nvalue](https://www.investopedia.com/terms/i/intrinsicvalue.asp) of a stock.\\nFundamental analysts study everything from the overall economy and industry\\nconditions to the financial condition and management of companies.\\n[Earnings](https://www.investopedia.com/terms/e/earnings.asp),\\n[expenses](https://www.investopedia.com/terms/e/expense.asp), assets, and\\nliabilities are all important characteristics of fundamental analysis that\\nhelp analysts determine the fair value of a business.\\n\\n###  Technical Analysis\\n\\nTechnical analysis differs from fundamental analysis in that the stock\\'s price\\nand volume are the only inputs. The core assumption is that all publicly known\\nfundamentals have factored into price; thus, there is no need to pay close\\nattention to them. Technical analysts do not attempt to measure a security\\'s\\nintrinsic value, but instead, [use stock charts to identify\\npatterns](https://www.investopedia.com/articles/forex/09/mcginley-dynamic-\\nindicator.asp) and trends that suggest how a stock\\'s price will move in the\\nfuture.\\n\\n##  Limitations of Technical Analysis\\n\\n**1.** For some analysts and academic researchers, the EMH demonstrates why no\\nactionable information is contained in [historical\\nprice](https://www.investopedia.com/terms/h/historic-pricing.asp) and volume\\ndata. However, by the same reasoning, nor should business fundamentals provide\\nactionable information. These points of view are known as the weak form and\\nsemi-strong form of the EMH.\\n\\n**2.** Another criticism of technical analysis is that history does not repeat\\nitself exactly, so price pattern study is of dubious importance and can be\\nignored. Prices seem to be better modeled as a random walk.\\n\\n**3.** A third criticism of technical analysis is that it works in some cases\\nbut only because it constitutes a self-fulfilling prophecy. For example, many\\ntechnical traders will place a [stop-loss\\norder](https://www.investopedia.com/terms/s/stop-lossorder.asp) below the\\n200-day moving average of a certain company.\\n\\n[more](https://www.investopedia.com/terms/f/financial-analysis.asp)\\n\\n[Fundamental Analysis: Principles, Types, and How to Use\\nIt](https://www.investopedia.com/terms/f/fundamentalanalysis.asp)\\n\\nFundamental analysis is a method of measuring a stock\\'s intrinsic value.\\nAnalysts who follow this method try to find under- or overvalued stocks.\\n\\n[more](https://www.investopedia.com/terms/f/fundamentalanalysis.asp)\\n\\n[Swing Trading: Definition and the Pros and Cons for\\nInvestors](https://www.investopedia.com/terms/s/swingtrading.asp)\\n\\nSwing trading is an attempt to capture gains in an asset over a few days to\\nseveral weeks. Swing traders utilize various tactics to find and take\\nadvantage of these opportunities.\\n\\n[more](https://www.investopedia.com/terms/s/swingtrading.asp)\\n\\n[Technical Analyst or Chartist: One Who Uses Technical\\nAnalysis](https://www.investopedia.com/terms/t/technical-analyst.asp)\\n\\nA technical analyst, or technician, is a securities researcher who analyzes\\ninvestments based on past market prices and technical indicators.\\n\\n[more](https://www.investopedia.com/terms/t/technical-analyst.asp)\\n\\n[Breakout Trader: Overview, Types, and\\nExample](https://www.investopedia.com/terms/b/breakouttrader.asp)\\n\\nA breakout trader looks for levels that a security hasn\\'t been able to move\\nbeyond, and waits for it to move beyond those levels, as it could keep moving\\nin that direction.\\n\\n[more](https://www.investopedia.com/terms/b/breakouttrader.asp)\\n\\nRelated Articles\\n\\n[\\n![Image](https://www.investopedia.com/thmb/dCvcwk15Mmk2Q8NdEYkKLo79er4=/400x300/filters:no_upscale\\\\(\\\\):max_bytes\\\\(150000\\\\):strip_icc\\\\(\\\\)/GettyImages-1156434229_1800-eeadcad8ce07443e95fffb0c3bca4aa2.png)\\nTechnical Analysis of Stocks and Trends Definition\\n](https://www.investopedia.com/terms/t/technical-analysis-of-stocks-and-\\ntrends.asp) [ ![Financial\\nAnalysis](https://www.investopedia.com/thmb/v8pUwHt612oT6eEU5OxrxJoPpD0=/400x300/filters:no_upscale\\\\(\\\\):max_bytes\\\\(150000\\\\):strip_icc\\\\(\\\\)/FinancialAnalysis-\\nedit-5b5ae0fdcc92481e8d69fe30c92629f8.jpg) Financial Analysis: Definition,\\nImportance, Types, and Examples\\n](https://www.investopedia.com/terms/f/financial-analysis.asp) [ ![Fundamental\\nAnalysis](https://www.investopedia.com/thmb/L2B0t4iOdgi-\\nDn6E7hn2Cw9CkSc=/400x300/filters:no_upscale\\\\(\\\\):max_bytes\\\\(150000\\\\):strip_icc\\\\(\\\\)/FundamentalAnalysis_Final_4195918-eea2436ba2374e23930b0a482adbea2f.jpg)\\nFundamental Analysis: Principles, Types, and How to Use It\\n](https://www.investopedia.com/terms/f/fundamentalanalysis.asp) [\\n![Image](https://www.investopedia.com/thmb/tB3H2lzSyol4Faq8yXpc_lk8p1Q=/400x300/filters:no_upscale\\\\(\\\\):max_bytes\\\\(150000\\\\):strip_icc\\\\(\\\\)/GettyImages-171294601_1800-d5e1a87b0e184d95a210b9dd0265c39e.png)\\nSwing Trading: Definition and the Pros and Cons for Investors\\n](https://www.investopedia.com/terms/s/swingtrading.asp) [ ![A trader looks at\\ncomputers at the New York Stock Exchange\\n](https://www.investopedia.com/thmb/21-q3vCQLoG4FvwkkF1IwTkSr9o=/400x300/filters:no_upscale\\\\(\\\\):max_bytes\\\\(150000\\\\):strip_icc\\\\(\\\\)/GettyImages-1410837234-466c1851bcb946a6a89e532ab6e9dc29.jpg)\\nFundamental vs. Technical Analysis: What\\'s the Difference?\\n](https://www.investopedia.com/ask/answers/difference-between-fundamental-and-\\ntechnical-analysis/) [\\n!\\n\\nSpecialties include general\\nfinancial planning, career development, lending, retirement, tax preparation,\\nand credit.\\n\\nLearn about our  [editorial policies](/legal-4768893#editorial-policy)\\n\\nPart of the Series\\n\\nGuide to Technical Analysis\\n\\nKey Technical Analysis Concepts\\n\\n  1. [ Technical Analysis of Stocks and Trends Definition ](https://www.investopedia.com/terms/t/technical-analysis-of-stocks-and-trends.asp)\\n  2. [ Dow Theory ](https://www.investopedia.com/terms/d/dowtheory.asp)\\n  3. [ Support and Resistance Basics ](https://www.investopedia.com/trading/support-and-resistance-basics/)\\n  4. [ Support (Support Level) ](https://www.investopedia.com/terms/s/support.asp)\\n  5. [ Resistance (Resistance Level) ](https://www.investopedia.com/terms/r/resistance.asp)\\n  6. [ Trend ](https://www.investopedia.com/terms/t/trend.asp)\\n  7. [ Pullback ](https://www.investopedia.com/terms/p/pullback.asp)\\n  8. [ Breakout ](https://www.investopedia.com/terms/b/breakout.asp)\\n  9. [ Reversal ](https://www.investopedia.com/terms/r/reversal.asp)\\n  10. [ Overbought ](https://www.investopedia.com/terms/o/overbought.asp)\\n  11. [ Oversold ](https://www.investopedia.com/terms/o/oversold.asp)\\n  12. [ Relative Strength ](https://www.investopedia.com/terms/r/relativestrength.asp)\\n  13. [ Candlestick ](https://www.investopedia.com/terms/c/candlestick.asp)\\n  14. [ Volume ](https://www.investopedia.com/terms/v/volume.asp)\\n  15. [ Gap ](https://www.investopedia.com/terms/g/gap.asp)\\n\\nGetting Started with Technical Analysis\\n\\n  1. [ Best Ways to Learn Technical Analysis ](https://www.investopedia.com/trading/best-ways-learn-technical-analysis/)\\n  2. [ Top 7 Books to Learn Technical Analysis ](https://www.investopedia.com/articles/personal-finance/090916/top-5-books-learn-technical-analysis.asp)\\n  3. [ Top Technical Analysis Courses ](https://www.investopedia.com/best-technical-analysis-courses-5118327)\\n  4. [ The Best Technical Analysis Trading Software ](https://www.investopedia.com/articles/active-trading/121014/best-technical-analysis-trading-software.asp)\\n\\nEssential Technical Analysis Strategies\\n\\n  1. [ Technical Analysis Strategies for Beginners ](https://www.investopedia.com/articles/active-trading/102914/technical-analysis-strategies-beginners.asp)\\n  2. [ How to Use a Moving Average to Buy Stocks ](https://www.investopedia.com/articles/active-trading/052014/how-use-moving-average-buy-stocks.asp)\\n  3. [ How to Use Volume to Improve Your Trading ](https://www.investopedia.com/articles/technical/02/010702.asp)\\n  4. [ The Anatomy of Trading Breakouts ](https://www.investopedia.com/articles/trading/08/trading-breakouts.asp)\\n  5. [ Market Reversals and How to Spot Them ](https://www.investopedia.com/investing/market-reversals-and-how-spot-them/)\\n\\nTechnical Analysis Patterns\\n\\n  1. [ Introduction to Technical Analysis Price Patterns ](https://www.investopedia.com/articles/technical/112601.asp)\\n  2. [ 5 Most Powerful Candlestick Patterns ](https://www.investopedia.com/articles/active-trading/092315/5-most-powerful-candlestick-patterns.asp)\\n  3. [ Continuation Pattern ](https://www.investopedia.com/terms/c/continuationpattern.asp)\\n  4. [ Trendline ](https://www.investopedia.com/terms/t/trendline.asp)\\n  5. [ Price Channel ](https://www.investopedia.com/terms/p/price-channel.asp)\\n  6. [ Channeling: Charting a Path to Success ](https://www.investopedia.com/trading/channeling-charting-path-to-success/)\\n  7. [ Playing the Gap ](https://www.investopedia.com/articles/trading/05/playinggaps.asp)\\n  8.\\n\\nShe is a library professional, transcriptionist, editor, and fact-\\nchecker.\\n\\nLearn about our  [editorial policies](/legal-4768893#editorial-policy)\\n\\nPart of the Series\\n\\nGuide to Technical Analysis\\n\\nKey Technical Analysis Concepts\\n\\n  1. [ Technical Analysis of Stocks and Trends Definition ](https://www.investopedia.com/terms/t/technical-analysis-of-stocks-and-trends.asp)\\n  2. [ Dow Theory ](https://www.investopedia.com/terms/d/dowtheory.asp)\\n  3. [ Support and Resistance Basics ](https://www.investopedia.com/trading/support-and-resistance-basics/)\\n  4. [ Support (Support Level) ](https://www.investopedia.com/terms/s/support.asp)\\n  5. [ Resistance (Resistance Level) ](https://www.investopedia.com/terms/r/resistance.asp)\\n  6. [ Trend ](https://www.investopedia.com/terms/t/trend.asp)\\n  7. [ Pullback ](https://www.investopedia.com/terms/p/pullback.asp)\\n  8. [ Breakout ](https://www.investopedia.com/terms/b/breakout.asp)\\n  9. [ Reversal ](https://www.investopedia.com/terms/r/reversal.asp)\\n  10. [ Overbought ](https://www.investopedia.com/terms/o/overbought.asp)\\n  11. [ Oversold ](https://www.investopedia.com/terms/o/oversold.asp)\\n  12. [ Relative Strength ](https://www.investopedia.com/terms/r/relativestrength.asp)\\n  13. [ Candlestick ](https://www.investopedia.com/terms/c/candlestick.asp)\\n  14. [ Volume ](https://www.investopedia.com/terms/v/volume.asp)\\n  15. [ Gap ](https://www.investopedia.com/terms/g/gap.asp)\\n\\nGetting Started with Technical Analysis\\n\\n  1. [ Best Ways to Learn Technical Analysis ](https://www.investopedia.com/trading/best-ways-learn-technical-analysis/)\\n  2. [ Top 7 Books to Learn Technical Analysis ](https://www.investopedia.com/articles/personal-finance/090916/top-5-books-learn-technical-analysis.asp)\\n  3. [ Top Technical Analysis Courses ](https://www.investopedia.com/best-technical-analysis-courses-5118327)\\n  4. [ The Best Technical Analysis Trading Software ](https://www.investopedia.com/articles/active-trading/121014/best-technical-analysis-trading-software.asp)\\n\\nEssential Technical Analysis Strategies\\n\\n  1. [ Technical Analysis Strategies for Beginners ](https://www.investopedia.com/articles/active-trading/102914/technical-analysis-strategies-beginners.asp)\\n  2. [ How to Use a Moving Average to Buy Stocks ](https://www.investopedia.com/articles/active-trading/052014/how-use-moving-average-buy-stocks.asp)\\n  3. [ How to Use Volume to Improve Your Trading ](https://www.investopedia.com/articles/technical/02/010702.asp)\\n  4. [ The Anatomy of Trading Breakouts ](https://www.investopedia.com/articles/trading/08/trading-breakouts.asp)\\n  5. [ Market Reversals and How to Spot Them ](https://www.investopedia.com/investing/market-reversals-and-how-spot-them/)\\n\\nTechnical Analysis Patterns\\n\\n  1. [ Introduction to Technical Analysis Price Patterns ](https://www.investopedia.com/articles/technical/112601.asp)\\n  2. [ 5 Most Powerful Candlestick Patterns ](https://www.investopedia.com/articles/active-trading/092315/5-most-powerful-candlestick-patterns.asp)\\n  3. [ Continuation Pattern ](https://www.investopedia.com/terms/c/continuationpattern.asp)\\n  4. [ Trendline ](https://www.investopedia.com/terms/t/trendline.asp)\\n  5. [ Price Channel ](https://www.investopedia.com/terms/p/price-channel.asp)\\n  6. [ Channeling: Charting a Path to Success ](https://www.investopedia.com/trading/channeling-charting-path-to-success/)\\n  7. [ Playing the Gap ](https://www.investopedia.com/articles/trading/05/playinggaps.asp)\\n  8.\\n\\nHowever, by the same reasoning, nor should business fundamentals provide\\nactionable information. These points of view are known as the weak form and\\nsemi-strong form of the EMH.\\n\\n**2.** Another criticism of technical analysis is that history does not repeat\\nitself exactly, so price pattern study is of dubious importance and can be\\nignored. Prices seem to be better modeled as a random walk.\\n\\n**3.** A third criticism of technical analysis is that it works in some cases\\nbut only because it constitutes a self-fulfilling prophecy. For example, many\\ntechnical traders will place a [stop-loss\\norder](https://www.investopedia.com/terms/s/stop-lossorder.asp) below the\\n200-day moving average of a certain company.\\n\\nIf a large number of traders have done so and the stock reaches this price,\\nthere will be a large number of sell orders, which will push the stock price\\ndown, confirming the movement traders anticipated.\\n\\nThen, other traders will see the price decrease and sell their positions,\\nreinforcing the strength of the trend. This short-term selling pressure can be\\nconsidered self-fulfilling, but it will have little bearing on where the\\nasset\\'s price will be weeks or months from now.\\n\\nIn sum, if enough people use the same signals, they could cause the movement\\nforetold by the signal. However, over the long run, this sole group of traders\\ncannot drive the price.\\n\\n## What Assumptions Do Technical Analysts Make?\\n\\nProfessional technical analysts typically assume three things. First, the\\nmarket discounts everything. Second, prices, even in random market movements,\\nwill exhibit trends regardless of the time frame being observed. Third,\\nhistory tends to repeat itself. The repetitive nature of price movements is\\noften attributed to market psychology, which tends to be very predictable.\\n\\n## What\\'s the Difference Between Fundamental and Technical Analysis?\\n\\nFundamental analysis is a method of evaluating securities by attempting to\\nmeasure the intrinsic value of a stock. The core assumption of technical\\nanalysis, on the other hand, is that all known fundamentals are factored into\\nprice; thus, there is no need to pay close attention to them. Technical\\nanalysts do not attempt to measure a security\\'s intrinsic value, but instead,\\nuse stock charts to identify patterns and trends that might suggest how the\\nsecurity\\'s price will move in the future.\\n\\n## How Can I Learn Technical Analysis?\\n\\nYour first step is to learn about investing, stocks, markets, and financials.\\nThis can be done through books, online courses and materials, and in-person\\nclasses. Once you understand the basics, you can start [studying technical\\nanalysis](https://www.investopedia.com/trading/best-ways-learn-technical-\\nanalysis/).\\n\\n##  The Bottom Line\\n\\nTechnical analysis is a longstanding method of analyzing the price and volume\\ndata of securities to determine future price action. This data usually appears\\non charts. Investors and professional traders apply a variety of technical\\nindicators to these price and volume charts to draw conclusions and make\\ndecisions about entry and exit points for trades.\\n\\nArticle Sources\\n\\nInvestopedia requires writers to use primary sources to support their work.\\nThese include white papers, government data, original reporting, and\\ninterviews with industry experts. We also reference original research from\\nother reputable publishers where appropriate. You can learn more about the\\nstandards we follow in producing accurate, unbiased content in our [editorial\\npolicy.](https://www.investopedia.com/legal-4768893#EditorialPolicy)\\n\\n  1. John J. Murphy. \"Technical Analysis of the Financial Markets: A Comprehensive Guide to Trading Methods and Applications,\" Page 23. Penguin, 1999.\\n\\n  2. CMT Association. \"[Enroll in the CMT Program](https://cmtassociation.org/chartered-market-technician/enroll-in-the-cmt-program/).\"\\n\\n  3. CFA Institute Research Foundation. \"[Technical Analysis: Modern Perspectives](https://www.cfainstitute.org/-/media/documents/book/rf-lit-review/2016/rflrv11n11.ashx),\" Page 1.\\n\\nCompare Accounts\\n\\nAdvertiser Disclosure\\n\\n×\\n\\nThe offers that appear in this table are from partnerships from which\\nInvestopedia receives compensation. This compensation may impact how and where\\nlistings appear. Investopedia does not include all offers available in the\\nmarketplace.\\n\\nProvider\\n\\nName\\n\\nDescription\\n\\nPart of the Series\\n\\nHow to Invest with Confidence\\n\\nStock Market Basics\\n\\n  1. [ Investing: An Introduction ](https://www.investopedia.com/articles/basics/11/3-s-simple-investing.asp)\\n  2.\\n\\n[ Best Ways to Learn Technical Analysis ](https://www.investopedia.com/trading/best-ways-learn-technical-analysis/)\\n  2. [ Top 7 Books to Learn Technical Analysis ](https://www.investopedia.com/articles/personal-finance/090916/top-5-books-learn-technical-analysis.asp)\\n  3. [ Top Technical Analysis Courses ](https://www.investopedia.com/best-technical-analysis-courses-5118327)\\n  4. [ The Best Technical Analysis Trading Software ](https://www.investopedia.com/articles/active-trading/121014/best-technical-analysis-trading-software.asp)\\n\\nEssential Technical Analysis Strategies\\n\\n  1. [ Technical Analysis Strategies for Beginners ](https://www.investopedia.com/articles/active-trading/102914/technical-analysis-strategies-beginners.asp)\\n  2. [ How to Use a Moving Average to Buy Stocks ](https://www.investopedia.com/articles/active-trading/052014/how-use-moving-average-buy-stocks.asp)\\n  3. [ How to Use Volume to Improve Your Trading ](https://www.investopedia.com/articles/technical/02/010702.asp)\\n  4. [ The Anatomy of Trading Breakouts ](https://www.investopedia.com/articles/trading/08/trading-breakouts.asp)\\n  5. [ Market Reversals and How to Spot Them ](https://www.investopedia.com/investing/market-reversals-and-how-spot-them/)\\n\\nTechnical Analysis Patterns\\n\\n  1. [ Introduction to Technical Analysis Price Patterns ](https://www.investopedia.com/articles/technical/112601.asp)\\n  2. [ 5 Most Powerful Candlestick Patterns ](https://www.investopedia.com/articles/active-trading/092315/5-most-powerful-candlestick-patterns.asp)\\n  3. [ Continuation Pattern ](https://www.investopedia.com/terms/c/continuationpattern.asp)\\n  4. [ Trendline ](https://www.investopedia.com/terms/t/trendline.asp)\\n  5. [ Price Channel ](https://www.investopedia.com/terms/p/price-channel.asp)\\n  6. [ Channeling: Charting a Path to Success ](https://www.investopedia.com/trading/channeling-charting-path-to-success/)\\n  7. [ Playing the Gap ](https://www.investopedia.com/articles/trading/05/playinggaps.asp)\\n  8. [ Double Tops and Bottoms ](https://www.investopedia.com/terms/d/double-top-and-bottom.asp)\\n  9. [ Triple Tops and Bottoms ](https://www.investopedia.com/articles/technical/02/012102.asp)\\n  10. [ Head And Shoulders Pattern ](https://www.investopedia.com/terms/h/head-shoulders.asp)\\n  11. [ How to Trade the Head and Shoulders Pattern ](https://www.investopedia.com/articles/technical/121201.asp)\\n  12. [ Flag ](https://www.investopedia.com/terms/f/flag.asp)\\n  13. [ Pennant ](https://www.investopedia.com/terms/p/pennant.asp)\\n  14. [ Triangle ](https://www.investopedia.com/terms/t/triangle.asp)\\n  15. [ Wedge ](https://www.investopedia.com/terms/w/wedge.asp)\\n  16. [ Cup and Handle Pattern ](https://www.investopedia.com/terms/c/cupandhandle.asp)\\n  17. [ Trading Fibonacci Retracements ](https://www.investopedia.com/articles/active-trading/091114/strategies-trading-fibonacci-retracements.asp)\\n  18. [ Elliott Wave Theory ](https://www.investopedia.com/terms/e/elliottwavetheory.asp)\\n  19. [ Trader\\'s Guide to Using Fractals ](https://www.investopedia.com/articles/trading/06/fractals.asp)\\n\\nTechnical Analysis Indicators\\n\\n  1. [ Technical Indicator Definition ](https://www.investopedia.com/terms/t/technicalindicator.asp)\\n  2. [ Moving Average (MA) ](https://www.investopedia.com/terms/m/movingaverage.asp)\\n  3. [ Crossover ](https://www.investopedia.com/terms/c/crossover.asp)\\n  4. [ Golden Cross vs.\\n\\nA stochastic indicator reading above 80\\nindicates that the asset is trading near the top of its range, and a reading\\nbelow 20 shows that it is near the bottom of its range.\\n\\n## What Does %K Represent on the Stochastic Oscillator?\\n\\nOn a stochastic oscillator chart, %K represents the current price of the\\nsecurity, represented as a percentage of the difference between its highest\\nand lowest values over a certain time period. In other words, K represents the\\ncurrent price in relation to the asset\\'s recent price range.\\n\\n## What Does %D Represent on the Stochastic Oscillator?\\n\\nOn a stochastic oscillator chart, %D represents the 3-period average of %K.\\nThis line is used to show the longer-term trend for current prices, and is\\nused to show the current price trend is continuing for a sustained period of\\ntime.\\n\\nArticle Sources\\n\\nInvestopedia requires writers to use primary sources to support their work.\\nThese include white papers, government data, original reporting, and\\ninterviews with industry experts. We also reference original research from\\nother reputable publishers where appropriate. You can learn more about the\\nstandards we follow in producing accurate, unbiased content in our [editorial\\npolicy.](https://www.investopedia.com/legal-4768893#EditorialPolicy)\\n\\n  1. Fidelity. \"[Slow Stochastic](https://www.fidelity.com/learning-center/trading-investing/technical-analysis/technical-indicator-guide/slow-stochastic).\"\\n\\n  2. George Pruitt. \"The Ultimate Algorithmic Trading System Toolbox + Website: Using Today\\'s Technology To Help You Become A Better Trader.\" John Wiley & Sons, 2016.\\n\\n  3. CMC Markets. \"[What Is the Stochastic Indicator?](https://www.cmcmarkets.com/en/trading-guides/what-is-a-stochastic-indicator)\"\\n\\nPart of the Series\\n\\nGuide to Technical Analysis\\n\\nKey Technical Analysis Concepts\\n\\n  1. [ Technical Analysis of Stocks and Trends Definition ](https://www.investopedia.com/terms/t/technical-analysis-of-stocks-and-trends.asp)\\n  2. [ Dow Theory ](https://www.investopedia.com/terms/d/dowtheory.asp)\\n  3. [ Support and Resistance Basics ](https://www.investopedia.com/trading/support-and-resistance-basics/)\\n  4. [ Support (Support Level) ](https://www.investopedia.com/terms/s/support.asp)\\n  5. [ Resistance (Resistance Level) ](https://www.investopedia.com/terms/r/resistance.asp)\\n  6. [ Trend ](https://www.investopedia.com/terms/t/trend.asp)\\n  7. [ Pullback ](https://www.investopedia.com/terms/p/pullback.asp)\\n  8. [ Breakout ](https://www.investopedia.com/terms/b/breakout.asp)\\n  9. [ Reversal ](https://www.investopedia.com/terms/r/reversal.asp)\\n  10. [ Overbought ](https://www.investopedia.com/terms/o/overbought.asp)\\n  11. [ Oversold ](https://www.investopedia.com/terms/o/oversold.asp)\\n  12. [ Relative Strength ](https://www.investopedia.com/terms/r/relativestrength.asp)\\n  13. [ Candlestick ](https://www.investopedia.com/terms/c/candlestick.asp)\\n  14. [ Volume ](https://www.investopedia.com/terms/v/volume.asp)\\n  15. [ Gap ](https://www.investopedia.com/terms/g/gap.asp)\\n\\nGetting Started with Technical Analysis\\n\\n  1. [ Best Ways to Learn Technical Analysis ](https://www.investopedia.com/trading/best-ways-learn-technical-analysis/)\\n  2. [ Top 7 Books to Learn Technical Analysis ](https://www.investopedia.com/articles/personal-finance/090916/top-5-books-learn-technical-analysis.asp)\\n  3. [ Top Technical Analysis Courses ](https://www.investopedia.com/best-technical-analysis-courses-5118327)\\n  4. [ The Best Technical Analysis Trading Software ](https://www.investopedia.com/articles/active-trading/121014/best-technical-analysis-trading-software.asp)\\n\\nEssential Technical Analysis Strategies\\n\\n  1. [ Technical Analysis Strategies for Beginners ](https://www.investopedia.com/articles/active-trading/102914/technical-analysis-strategies-beginners.asp)\\n  2.\\n\\nJohn Wiley & Sons, 2016.\\n\\n  11. E. Ponsi. \"[Technical Analysis and Chart Interpretations: A Comprehensive Guide to Understanding Established Trading Tactics](https://www.wiley.com/en-us/Technical+Analysis+and+Chart+Interpretations%3A+A+Comprehensive+Guide+to+Understanding+Established+Trading+Tactics+for+Ultimate+Profit-p-9781119048220),\" Chapter 26. John Wiley & Sons, 2016.\\n\\nPart of the Series\\n\\nGuide to Technical Analysis\\n\\nKey Technical Analysis Concepts\\n\\n  1. [ Technical Analysis of Stocks and Trends Definition ](https://www.investopedia.com/terms/t/technical-analysis-of-stocks-and-trends.asp)\\n  2. [ Dow Theory ](https://www.investopedia.com/terms/d/dowtheory.asp)\\n  3. [ Support and Resistance Basics ](https://www.investopedia.com/trading/support-and-resistance-basics/)\\n  4. [ Support (Support Level) ](https://www.investopedia.com/terms/s/support.asp)\\n  5. [ Resistance (Resistance Level) ](https://www.investopedia.com/terms/r/resistance.asp)\\n  6. [ Trend ](https://www.investopedia.com/terms/t/trend.asp)\\n  7. [ Pullback ](https://www.investopedia.com/terms/p/pullback.asp)\\n  8. [ Breakout ](https://www.investopedia.com/terms/b/breakout.asp)\\n  9. [ Reversal ](https://www.investopedia.com/terms/r/reversal.asp)\\n  10. [ Overbought ](https://www.investopedia.com/terms/o/overbought.asp)\\n  11. [ Oversold ](https://www.investopedia.com/terms/o/oversold.asp)\\n  12. [ Relative Strength ](https://www.investopedia.com/terms/r/relativestrength.asp)\\n  13. [ Candlestick ](https://www.investopedia.com/terms/c/candlestick.asp)\\n  14. [ Volume ](https://www.investopedia.com/terms/v/volume.asp)\\n  15. [ Gap ](https://www.investopedia.com/terms/g/gap.asp)\\n\\nGetting Started with Technical Analysis\\n\\n  1. [ Best Ways to Learn Technical Analysis ](https://www.investopedia.com/trading/best-ways-learn-technical-analysis/)\\n  2. [ Top 7 Books to Learn Technical Analysis ](https://www.investopedia.com/articles/personal-finance/090916/top-5-books-learn-technical-analysis.asp)\\n  3. [ Top Technical Analysis Courses ](https://www.investopedia.com/best-technical-analysis-courses-5118327)\\n  4. [ The Best Technical Analysis Trading Software ](https://www.investopedia.com/articles/active-trading/121014/best-technical-analysis-trading-software.asp)\\n\\nEssential Technical Analysis Strategies\\n\\n  1. [ Technical Analysis Strategies for Beginners ](https://www.investopedia.com/articles/active-trading/102914/technical-analysis-strategies-beginners.asp)\\n  2. [ How to Use a Moving Average to Buy Stocks ](https://www.investopedia.com/articles/active-trading/052014/how-use-moving-average-buy-stocks.asp)\\n  3. [ How to Use Volume to Improve Your Trading ](https://www.investopedia.com/articles/technical/02/010702.asp)\\n  4. [ The Anatomy of Trading Breakouts ](https://www.investopedia.com/articles/trading/08/trading-breakouts.asp)\\n  5. [ Market Reversals and How to Spot Them ](https://www.investopedia.com/investing/market-reversals-and-how-spot-them/)\\n\\nTechnical Analysis Patterns\\n\\n  1. [ Introduction to Technical Analysis Price Patterns ](https://www.investopedia.com/articles/technical/112601.asp)\\n  2. [ 5 Most Powerful Candlestick Patterns ](https://www.investopedia.com/articles/active-trading/092315/5-most-powerful-candlestick-patterns.asp)\\n  3. [ Continuation Pattern ](https://www.investopedia.com/terms/c/continuationpattern.asp)\\n  4. [ Trendline ](https://www.investopedia.com/terms/t/trendline.asp)\\n  5. [ Price Channel ](https://www.investopedia.com/terms/p/price-channel.asp)\\n  6.\\n\\n[A trader looks at\\ncomputers at the New York Stock Exchange\\n](https://www.investopedia.com/thmb/21-q3vCQLoG4FvwkkF1IwTkSr9o=/400x300/filters:no_upscale\\\\(\\\\):max_bytes\\\\(150000\\\\):strip_icc\\\\(\\\\)/GettyImages-1410837234-466c1851bcb946a6a89e532ab6e9dc29.jpg)\\nFundamental vs. Technical Analysis: What\\'s the Difference?\\n](https://www.investopedia.com/ask/answers/difference-between-fundamental-and-\\ntechnical-analysis/) [\\n![](https://www.investopedia.com/thmb/Y5oQiTc37rq8j-kWCQb0MdGbadI=/400x300/filters:no_upscale\\\\(\\\\):max_bytes\\\\(150000\\\\):strip_icc\\\\(\\\\)/business_building_153697270-5bfc2b9846e0fb0083c07d69.jpg)\\nPatterns vs. Trends: What\\'s the Difference?'"
      ]
     },
     "execution_count": 19,
     "metadata": {},
     "output_type": "execute_result"
    }
   ],
   "source": [
    "\"\\n\\n\".join([n.get_content() for n in contexts])"
   ]
  },
  {
   "cell_type": "code",
   "execution_count": 23,
   "metadata": {},
   "outputs": [],
   "source": [
    "dspy_component = DSPyComponent(\n",
    "    dspy.ChainOfThought(GenerateAnswer)\n",
    ")\n",
    "retriever_post = FnComponent(\n",
    "    lambda contexts: \"\\n\\n\".join([n.get_content(\"\") for n in contexts])\n",
    ")\n",
    "p = QP(verbose=True)\n",
    "p.add_modules(\n",
    "    {\n",
    "        \"input\": InputComponent(),\n",
    "        \"retriever\": retriever,\n",
    "        \"retriever_post\": retriever_post,\n",
    "        \"synthesizer\": dspy_component,\n",
    "    }\n",
    ")\n",
    "p.add_link(\"input\", \"retriever\")\n",
    "p.add_link(\"retriever\", \"retriever_post\")\n",
    "p.add_link(\"input\", \"synthesizer\", dest_key=\"query_str\")\n",
    "p.add_link(\"retriever_post\", \"synthesizer\", dest_key=\"context_str\")\n",
    "\n",
    "dspy_qp = LlamaIndexModule(p)"
   ]
  },
  {
   "cell_type": "code",
   "execution_count": 24,
   "metadata": {},
   "outputs": [
    {
     "name": "stdout",
     "output_type": "stream",
     "text": [
      "\u001b[1;3;38;2;155;135;227m> Running module input with input: \n",
      "query_str: What is the difference between an option and a future?\n",
      "\n",
      "\u001b[0m\u001b[1;3;38;2;155;135;227m> Running module retriever with input: \n",
      "input: What is the difference between an option and a future?\n",
      "\n",
      "\u001b[0m\u001b[1;3;38;2;155;135;227m> Running module retriever_post with input: \n",
      "contexts: [NodeWithScore(node=TextNode(id_='557709ad-c288-404d-92d1-48d1c072549d', embedding=None, metadata={}, excluded_embed_metadata_keys=[], excluded_llm_metadata_keys=[], relationships={<NodeRelationship.S...\n",
      "\n",
      "\u001b[0m\u001b[1;3;38;2;155;135;227m> Running module synthesizer with input: \n",
      "query_str: What is the difference between an option and a future?\n",
      "context_str: Futures: What’s the Difference?\n",
      "](https://www.investopedia.com/ask/answers/difference-between-options-and-\n",
      "futures/)\n",
      "\n",
      "Partner Links\n",
      "\n",
      "Related Terms\n",
      "\n",
      "[Sector Breakdown: What It Is and How It's\n",
      "Used](htt...\n",
      "\n",
      "\u001b[0m"
     ]
    },
    {
     "data": {
      "text/plain": [
       "Prediction(\n",
       "    answer='The key difference is that options give the buyer the right, but not the obligation, to buy or sell an asset at a specific price before expiration, while futures create an obligation for both parties to transact at the agreed price on the expiration date. Options require paying a premium upfront and have limited downside risk for buyers, while futures have lower initial costs but potentially unlimited risk. Options are more flexible in how they can be settled, while futures contracts must be fulfilled or offset at expiration. Options are available on a wider range of underlying assets compared to futures.'\n",
       ")"
      ]
     },
     "execution_count": 24,
     "metadata": {},
     "output_type": "execute_result"
    }
   ],
   "source": [
    "output = dspy_qp(\n",
    "    query_str = \"What is the difference between an option and a future?\"\n",
    ")\n",
    "output"
   ]
  },
  {
   "cell_type": "markdown",
   "metadata": {},
   "source": [
    "## Optimize query pipeline"
   ]
  },
  {
   "cell_type": "markdown",
   "metadata": {},
   "source": [
    "Harvested q&A training examples"
   ]
  },
  {
   "cell_type": "code",
   "execution_count": 25,
   "metadata": {},
   "outputs": [],
   "source": [
    "from dspy import Example\n",
    "\n",
    "train_examples = [\n",
    "    Example(\n",
    "        query_str = \"What is the difference between an option and a future?\",\n",
    "        answer = \"\"\"An option gives the buyer the right, but not the obligation, to buy (or sell) an asset at a specific price at any time during the life of the contract.\n",
    "        A futures contract obligates the buyer to purchase a specific asset, and the seller to sell and deliver that asset, at a specific future date\n",
    "        \"\"\"\n",
    "    ),\n",
    "    Example(\n",
    "        query_str = \"What are the similarities between an option and a future?\",\n",
    "        answer = \"\"\"Futures and options positions may be traded and closed ahead of expiration, but the parties to the futures contracts for commodities are typically obligated to make and accept deliveries on the settlement date.\"\"\"\n",
    "    ),\n",
    "    Example(\n",
    "        query_str = \"What is an option?\",\n",
    "        answer = \"Options are financial derivatives. An options contract gives an investor the right to buy or sell the underlying instrument at a specific price while the contract is in effect. Investors may choose not to exercise their options. Option holders do not own the underlying shares or enjoy shareholder rights unless they exercise an option to buy stock.\"\n",
    "    ),\n",
    "    Example(\n",
    "        query_str = \"What are the different options?\",\n",
    "        answer = \"There are only two kinds of options: Call options and put options. A call option confers the right to buy a stock at the strike price before the agreement expires. A put option gives the holder the right to sell a stock at a specific price.\"\n",
    "    ),\n",
    "    Example(\n",
    "        query_str=\"What's P/E ratio?\",\n",
    "        answer = \"\"\" This ratio is used to measure a company's current share price relative to its per-share earnings. The company can be compared to other, similar corporations so that analysts and investors can determine its relative value. So if a company has a P/E ratio of 20, this means investors are willing to pay $20 for every $1 per earnings. That might seem expensive but not if the company is growing fast. The P/E can be found by comparing the current market price to the cumulative earnings of the last four quarters.\"\"\"\n",
    "    ),\n",
    "    Example(\n",
    "        query_str=\"What's a dividend?\",\n",
    "        answer = \"\"\"Dividends are like interest in a savings account—you get paid regardless of the stock price. Dividends are distributions made by a company to its shareholders as a reward from its profits. The amount of the dividend is decided by its board of directors and are generally issued in cash, though it isn't uncommon for some companies to issue dividends in the form of stock shares.\"\"\"\n",
    "    ),\n",
    "    Example(\n",
    "        query_str=\"What's a balance sheet?\",\n",
    "        answer=\" A balance sheet is a financial statement that reports a company's assets, liabilities and shareholder equity at a specific point in time\"\n",
    "    ),\n",
    "    Example(\n",
    "        query_str=\"What's a current ratio?\",\n",
    "        answer = \"It's the total current assets divided by total current liabilities, commonly used by analysts to assess the ability of a company to meet its short-term obligations\"\n",
    "    ),\n",
    "    Example(\n",
    "        query_str = \"What are stocks?\",\n",
    "        answer = \"When you buy a stock or a share, you're getting a piece of that company. Owning shares gives you the right to part of the company's profits, often paid as dividends, and sometimes the right to vote on company matters\"\n",
    "    ),\n",
    "    Example(\n",
    "        query_str = \"What are REITs?\",\n",
    "        answer=\"Real estate investment trusts (REITs) are companies that own, manage, or finance real estate. Investors can buy shares in them, and they legally must provide 90% of their profits as dividends each year.\"\n",
    "    ),\n",
    "    Example(\n",
    "        query_str = \"What are brokers?\",\n",
    "        answer = \"Brokers in the stock market play the same role as in insurance and elsewhere, acting as a go-between for investors and the securities markets. They are licensed organizations that buy and sell stocks and other securities for individual and institutional clients.\"\n",
    "    ),\n",
    "    Example(\n",
    "        query_str = \"What is technical analysis?\",\n",
    "        answer = \"Technical analysis is used to scrutinize the ways supply and demand for a security affect changes in price, volume, and implied volatility. It assumes that past trading activity and price changes of a security can be valuable indicators of the security's future price movements when paired with appropriate investing or trading rules.\"\n",
    "    ),\n",
    "    Example(\n",
    "        query_str=\"What is the difference between fundamental and technical analysis?\",\n",
    "        answer = \"Fundamental analysis is a method of evaluating securities by attempting to measure the intrinsic value of a stock. Fundamental analysts study everything from the overall economy and industry conditions to the financial condition and management of companies. Technical analysis differs from fundamental analysis in that the stock's price and volume are the only inputs. The core assumption is that all publicly known fundamentals have factored into price; thus, there is no need to pay close attention to them. Technical analysts do not attempt to measure a security's intrinsic value, but instead, use stock charts to identify patterns and trends that suggest how a stock's price will move in the future.\"\n",
    "    )\n",
    "]"
   ]
  },
  {
   "cell_type": "code",
   "execution_count": 26,
   "metadata": {},
   "outputs": [],
   "source": [
    "train_examples = [t.with_inputs(\"query_str\") for t in train_examples]"
   ]
  },
  {
   "cell_type": "markdown",
   "metadata": {},
   "source": [
    "Finetune"
   ]
  },
  {
   "cell_type": "code",
   "execution_count": 27,
   "metadata": {},
   "outputs": [],
   "source": [
    "from dspy.teleprompt import BootstrapFewShot\n",
    "from llama_index.core.evaluation import SemanticSimilarityEvaluator\n",
    "\n",
    "evaluator = SemanticSimilarityEvaluator(similarity_threshold=0.5)\n",
    "\n",
    "def validate_context_and_answer(example, pred, trace=None):\n",
    "    result = evaluator.evaluate(\n",
    "        response = pred.answer,\n",
    "        reference=example.answer\n",
    "    )\n",
    "    return result.passing"
   ]
  },
  {
   "cell_type": "code",
   "execution_count": 28,
   "metadata": {},
   "outputs": [
    {
     "name": "stderr",
     "output_type": "stream",
     "text": [
      "  0%|          | 0/13 [00:00<?, ?it/s]"
     ]
    },
    {
     "name": "stdout",
     "output_type": "stream",
     "text": [
      "\u001b[1;3;38;2;155;135;227m> Running module input with input: \n",
      "query_str: What is the difference between an option and a future?\n",
      "\n",
      "\u001b[0m\u001b[1;3;38;2;155;135;227m> Running module retriever with input: \n",
      "input: What is the difference between an option and a future?\n",
      "\n",
      "\u001b[0m"
     ]
    },
    {
     "name": "stderr",
     "output_type": "stream",
     "text": [
      "\u001b[2m2024-07-23T00:00:49.497497Z\u001b[0m [\u001b[31m\u001b[1merror    \u001b[0m] \u001b[1mFailed to run or to evaluate example Example({'query_str': 'What is the difference between an option and a future?', 'answer': 'An option gives the buyer the right, but not the obligation, to buy (or sell) an asset at a specific price at any time during the life of the contract.\\n        A futures contract obligates the buyer to purchase a specific asset, and the seller to sell and deliver that asset, at a specific future date\\n        '}) (input_keys={'query_str'}) with <function validate_context_and_answer at 0x7ff7d01ada80> due to 'QdrantVectorStore' object has no attribute '_client'.\u001b[0m [\u001b[0m\u001b[1m\u001b[34mdspy.teleprompt.bootstrap\u001b[0m]\u001b[0m \u001b[36mfilename\u001b[0m=\u001b[35mbootstrap.py\u001b[0m \u001b[36mlineno\u001b[0m=\u001b[35m211\u001b[0m\n",
      "  8%|▊         | 1/13 [00:01<00:14,  1.21s/it]"
     ]
    },
    {
     "name": "stdout",
     "output_type": "stream",
     "text": [
      "\u001b[1;3;38;2;155;135;227m> Running module input with input: \n",
      "query_str: What are the similarities between an option and a future?\n",
      "\n",
      "\u001b[0m\u001b[1;3;38;2;155;135;227m> Running module retriever with input: \n",
      "input: What are the similarities between an option and a future?\n",
      "\n",
      "\u001b[0m"
     ]
    },
    {
     "name": "stderr",
     "output_type": "stream",
     "text": [
      "\u001b[2m2024-07-23T00:00:49.793248Z\u001b[0m [\u001b[31m\u001b[1merror    \u001b[0m] \u001b[1mFailed to run or to evaluate example Example({'query_str': 'What are the similarities between an option and a future?', 'answer': 'Futures and options positions may be traded and closed ahead of expiration, but the parties to the futures contracts for commodities are typically obligated to make and accept deliveries on the settlement date.'}) (input_keys={'query_str'}) with <function validate_context_and_answer at 0x7ff7d01ada80> due to 'QdrantVectorStore' object has no attribute '_client'.\u001b[0m [\u001b[0m\u001b[1m\u001b[34mdspy.teleprompt.bootstrap\u001b[0m]\u001b[0m \u001b[36mfilename\u001b[0m=\u001b[35mbootstrap.py\u001b[0m \u001b[36mlineno\u001b[0m=\u001b[35m211\u001b[0m\n",
      " 15%|█▌        | 2/13 [00:01<00:07,  1.48it/s]"
     ]
    },
    {
     "name": "stdout",
     "output_type": "stream",
     "text": [
      "\u001b[1;3;38;2;155;135;227m> Running module input with input: \n",
      "query_str: What is an option?\n",
      "\n",
      "\u001b[0m\u001b[1;3;38;2;155;135;227m> Running module retriever with input: \n",
      "input: What is an option?\n",
      "\n",
      "\u001b[0m"
     ]
    },
    {
     "name": "stderr",
     "output_type": "stream",
     "text": [
      "\u001b[2m2024-07-23T00:00:50.314657Z\u001b[0m [\u001b[31m\u001b[1merror    \u001b[0m] \u001b[1mFailed to run or to evaluate example Example({'query_str': 'What is an option?', 'answer': 'Options are financial derivatives. An options contract gives an investor the right to buy or sell the underlying instrument at a specific price while the contract is in effect. Investors may choose not to exercise their options. Option holders do not own the underlying shares or enjoy shareholder rights unless they exercise an option to buy stock.'}) (input_keys={'query_str'}) with <function validate_context_and_answer at 0x7ff7d01ada80> due to 'QdrantVectorStore' object has no attribute '_client'.\u001b[0m [\u001b[0m\u001b[1m\u001b[34mdspy.teleprompt.bootstrap\u001b[0m]\u001b[0m \u001b[36mfilename\u001b[0m=\u001b[35mbootstrap.py\u001b[0m \u001b[36mlineno\u001b[0m=\u001b[35m211\u001b[0m\n",
      " 23%|██▎       | 3/13 [00:02<00:06,  1.66it/s]"
     ]
    },
    {
     "name": "stdout",
     "output_type": "stream",
     "text": [
      "\u001b[1;3;38;2;155;135;227m> Running module input with input: \n",
      "query_str: What are the different options?\n",
      "\n",
      "\u001b[0m\u001b[1;3;38;2;155;135;227m> Running module retriever with input: \n",
      "input: What are the different options?\n",
      "\n",
      "\u001b[0m"
     ]
    },
    {
     "name": "stderr",
     "output_type": "stream",
     "text": [
      "\u001b[2m2024-07-23T00:00:50.860204Z\u001b[0m [\u001b[31m\u001b[1merror    \u001b[0m] \u001b[1mFailed to run or to evaluate example Example({'query_str': 'What are the different options?', 'answer': 'There are only two kinds of options: Call options and put options. A call option confers the right to buy a stock at the strike price before the agreement expires. A put option gives the holder the right to sell a stock at a specific price.'}) (input_keys={'query_str'}) with <function validate_context_and_answer at 0x7ff7d01ada80> due to 'QdrantVectorStore' object has no attribute '_client'.\u001b[0m [\u001b[0m\u001b[1m\u001b[34mdspy.teleprompt.bootstrap\u001b[0m]\u001b[0m \u001b[36mfilename\u001b[0m=\u001b[35mbootstrap.py\u001b[0m \u001b[36mlineno\u001b[0m=\u001b[35m211\u001b[0m\n",
      " 31%|███       | 4/13 [00:02<00:05,  1.72it/s]"
     ]
    },
    {
     "name": "stdout",
     "output_type": "stream",
     "text": [
      "\u001b[1;3;38;2;155;135;227m> Running module input with input: \n",
      "query_str: What's P/E ratio?\n",
      "\n",
      "\u001b[0m\u001b[1;3;38;2;155;135;227m> Running module retriever with input: \n",
      "input: What's P/E ratio?\n",
      "\n",
      "\u001b[0m"
     ]
    },
    {
     "name": "stderr",
     "output_type": "stream",
     "text": [
      " 31%|███       | 4/13 [00:02<00:06,  1.40it/s]\n"
     ]
    },
    {
     "ename": "AttributeError",
     "evalue": "'QdrantVectorStore' object has no attribute '_client'",
     "output_type": "error",
     "traceback": [
      "\u001b[0;31m---------------------------------------------------------------------------\u001b[0m",
      "\u001b[0;31mAttributeError\u001b[0m                            Traceback (most recent call last)",
      "Cell \u001b[0;32mIn[28], line 5\u001b[0m\n\u001b[1;32m      1\u001b[0m teleprompter \u001b[38;5;241m=\u001b[39m BootstrapFewShot(\n\u001b[1;32m      2\u001b[0m     max_labeled_demos\u001b[38;5;241m=\u001b[39m\u001b[38;5;241m0\u001b[39m,\n\u001b[1;32m      3\u001b[0m     metric\u001b[38;5;241m=\u001b[39mvalidate_context_and_answer\n\u001b[1;32m      4\u001b[0m )\n\u001b[0;32m----> 5\u001b[0m compiled_dspy_qp \u001b[38;5;241m=\u001b[39m \u001b[43mteleprompter\u001b[49m\u001b[38;5;241;43m.\u001b[39;49m\u001b[43mcompile\u001b[49m\u001b[43m(\u001b[49m\u001b[43mdspy_qp\u001b[49m\u001b[43m,\u001b[49m\u001b[43m \u001b[49m\u001b[43mtrainset\u001b[49m\u001b[38;5;241;43m=\u001b[39;49m\u001b[43mtrain_examples\u001b[49m\u001b[43m)\u001b[49m\n",
      "File \u001b[0;32m/App/tlim2/Anaconda3/envs/llamaindex/lib/python3.12/site-packages/dspy/teleprompt/bootstrap.py:84\u001b[0m, in \u001b[0;36mBootstrapFewShot.compile\u001b[0;34m(self, student, teacher, trainset)\u001b[0m\n\u001b[1;32m     82\u001b[0m \u001b[38;5;28mself\u001b[39m\u001b[38;5;241m.\u001b[39m_prepare_student_and_teacher(student, teacher)\n\u001b[1;32m     83\u001b[0m \u001b[38;5;28mself\u001b[39m\u001b[38;5;241m.\u001b[39m_prepare_predictor_mappings()\n\u001b[0;32m---> 84\u001b[0m \u001b[38;5;28;43mself\u001b[39;49m\u001b[38;5;241;43m.\u001b[39;49m\u001b[43m_bootstrap\u001b[49m\u001b[43m(\u001b[49m\u001b[43m)\u001b[49m\n\u001b[1;32m     86\u001b[0m \u001b[38;5;28mself\u001b[39m\u001b[38;5;241m.\u001b[39mstudent \u001b[38;5;241m=\u001b[39m \u001b[38;5;28mself\u001b[39m\u001b[38;5;241m.\u001b[39m_train()\n\u001b[1;32m     87\u001b[0m \u001b[38;5;28mself\u001b[39m\u001b[38;5;241m.\u001b[39mstudent\u001b[38;5;241m.\u001b[39m_compiled \u001b[38;5;241m=\u001b[39m \u001b[38;5;28;01mTrue\u001b[39;00m\n",
      "File \u001b[0;32m/App/tlim2/Anaconda3/envs/llamaindex/lib/python3.12/site-packages/dspy/teleprompt/bootstrap.py:154\u001b[0m, in \u001b[0;36mBootstrapFewShot._bootstrap\u001b[0;34m(self, max_bootstraps)\u001b[0m\n\u001b[1;32m    151\u001b[0m     \u001b[38;5;28;01mbreak\u001b[39;00m\n\u001b[1;32m    153\u001b[0m \u001b[38;5;28;01mif\u001b[39;00m example_idx \u001b[38;5;129;01mnot\u001b[39;00m \u001b[38;5;129;01min\u001b[39;00m bootstrapped:\n\u001b[0;32m--> 154\u001b[0m     success \u001b[38;5;241m=\u001b[39m \u001b[38;5;28;43mself\u001b[39;49m\u001b[38;5;241;43m.\u001b[39;49m\u001b[43m_bootstrap_one_example\u001b[49m\u001b[43m(\u001b[49m\u001b[43mexample\u001b[49m\u001b[43m,\u001b[49m\u001b[43m \u001b[49m\u001b[43mround_idx\u001b[49m\u001b[43m)\u001b[49m\n\u001b[1;32m    156\u001b[0m     \u001b[38;5;28;01mif\u001b[39;00m success:\n\u001b[1;32m    157\u001b[0m         bootstrapped[example_idx] \u001b[38;5;241m=\u001b[39m \u001b[38;5;28;01mTrue\u001b[39;00m\n",
      "File \u001b[0;32m/App/tlim2/Anaconda3/envs/llamaindex/lib/python3.12/site-packages/dspy/teleprompt/bootstrap.py:210\u001b[0m, in \u001b[0;36mBootstrapFewShot._bootstrap_one_example\u001b[0;34m(self, example, round_idx)\u001b[0m\n\u001b[1;32m    208\u001b[0m         current_error_count \u001b[38;5;241m=\u001b[39m \u001b[38;5;28mself\u001b[39m\u001b[38;5;241m.\u001b[39merror_count\n\u001b[1;32m    209\u001b[0m     \u001b[38;5;28;01mif\u001b[39;00m current_error_count \u001b[38;5;241m>\u001b[39m\u001b[38;5;241m=\u001b[39m \u001b[38;5;28mself\u001b[39m\u001b[38;5;241m.\u001b[39mmax_errors:\n\u001b[0;32m--> 210\u001b[0m         \u001b[38;5;28;01mraise\u001b[39;00m e\n\u001b[1;32m    211\u001b[0m     dspy\u001b[38;5;241m.\u001b[39mlogger\u001b[38;5;241m.\u001b[39merror(\u001b[38;5;124mf\u001b[39m\u001b[38;5;124m\"\u001b[39m\u001b[38;5;124mFailed to run or to evaluate example \u001b[39m\u001b[38;5;132;01m{\u001b[39;00mexample\u001b[38;5;132;01m}\u001b[39;00m\u001b[38;5;124m with \u001b[39m\u001b[38;5;132;01m{\u001b[39;00m\u001b[38;5;28mself\u001b[39m\u001b[38;5;241m.\u001b[39mmetric\u001b[38;5;132;01m}\u001b[39;00m\u001b[38;5;124m due to \u001b[39m\u001b[38;5;132;01m{\u001b[39;00me\u001b[38;5;132;01m}\u001b[39;00m\u001b[38;5;124m.\u001b[39m\u001b[38;5;124m\"\u001b[39m)\n\u001b[1;32m    213\u001b[0m \u001b[38;5;28;01mif\u001b[39;00m success:\n",
      "File \u001b[0;32m/App/tlim2/Anaconda3/envs/llamaindex/lib/python3.12/site-packages/dspy/teleprompt/bootstrap.py:190\u001b[0m, in \u001b[0;36mBootstrapFewShot._bootstrap_one_example\u001b[0;34m(self, example, round_idx)\u001b[0m\n\u001b[1;32m    187\u001b[0m     predictor_cache[name] \u001b[38;5;241m=\u001b[39m predictor\u001b[38;5;241m.\u001b[39mdemos\n\u001b[1;32m    188\u001b[0m     predictor\u001b[38;5;241m.\u001b[39mdemos \u001b[38;5;241m=\u001b[39m [x \u001b[38;5;28;01mfor\u001b[39;00m x \u001b[38;5;129;01min\u001b[39;00m predictor\u001b[38;5;241m.\u001b[39mdemos \u001b[38;5;28;01mif\u001b[39;00m x \u001b[38;5;241m!=\u001b[39m example]\n\u001b[0;32m--> 190\u001b[0m prediction \u001b[38;5;241m=\u001b[39m \u001b[43mteacher\u001b[49m\u001b[43m(\u001b[49m\u001b[38;5;241;43m*\u001b[39;49m\u001b[38;5;241;43m*\u001b[39;49m\u001b[43mexample\u001b[49m\u001b[38;5;241;43m.\u001b[39;49m\u001b[43minputs\u001b[49m\u001b[43m(\u001b[49m\u001b[43m)\u001b[49m\u001b[43m)\u001b[49m\n\u001b[1;32m    191\u001b[0m trace \u001b[38;5;241m=\u001b[39m dsp\u001b[38;5;241m.\u001b[39msettings\u001b[38;5;241m.\u001b[39mtrace\n\u001b[1;32m    193\u001b[0m \u001b[38;5;28;01mfor\u001b[39;00m name, predictor \u001b[38;5;129;01min\u001b[39;00m teacher\u001b[38;5;241m.\u001b[39mnamed_predictors():\n",
      "File \u001b[0;32m/App/tlim2/Anaconda3/envs/llamaindex/lib/python3.12/site-packages/dspy/primitives/program.py:26\u001b[0m, in \u001b[0;36mModule.__call__\u001b[0;34m(self, *args, **kwargs)\u001b[0m\n\u001b[1;32m     25\u001b[0m \u001b[38;5;28;01mdef\u001b[39;00m \u001b[38;5;21m__call__\u001b[39m(\u001b[38;5;28mself\u001b[39m, \u001b[38;5;241m*\u001b[39margs, \u001b[38;5;241m*\u001b[39m\u001b[38;5;241m*\u001b[39mkwargs):\n\u001b[0;32m---> 26\u001b[0m     \u001b[38;5;28;01mreturn\u001b[39;00m \u001b[38;5;28;43mself\u001b[39;49m\u001b[38;5;241;43m.\u001b[39;49m\u001b[43mforward\u001b[49m\u001b[43m(\u001b[49m\u001b[38;5;241;43m*\u001b[39;49m\u001b[43margs\u001b[49m\u001b[43m,\u001b[49m\u001b[43m \u001b[49m\u001b[38;5;241;43m*\u001b[39;49m\u001b[38;5;241;43m*\u001b[39;49m\u001b[43mkwargs\u001b[49m\u001b[43m)\u001b[49m\n",
      "File \u001b[0;32m/App/tlim2/Anaconda3/envs/llamaindex/lib/python3.12/site-packages/dspy/predict/llamaindex.py:261\u001b[0m, in \u001b[0;36mLlamaIndexModule.forward\u001b[0;34m(self, **kwargs)\u001b[0m\n\u001b[1;32m    259\u001b[0m \u001b[38;5;28;01mdef\u001b[39;00m \u001b[38;5;21mforward\u001b[39m(\u001b[38;5;28mself\u001b[39m, \u001b[38;5;241m*\u001b[39m\u001b[38;5;241m*\u001b[39mkwargs: Any) \u001b[38;5;241m-\u001b[39m\u001b[38;5;241m>\u001b[39m Dict[\u001b[38;5;28mstr\u001b[39m, Any]:\n\u001b[1;32m    260\u001b[0m \u001b[38;5;250m    \u001b[39m\u001b[38;5;124;03m\"\"\"Forward.\"\"\"\u001b[39;00m\n\u001b[0;32m--> 261\u001b[0m     output_dict \u001b[38;5;241m=\u001b[39m \u001b[38;5;28;43mself\u001b[39;49m\u001b[38;5;241;43m.\u001b[39;49m\u001b[43mquery_pipeline\u001b[49m\u001b[38;5;241;43m.\u001b[39;49m\u001b[43mrun\u001b[49m\u001b[43m(\u001b[49m\u001b[38;5;241;43m*\u001b[39;49m\u001b[38;5;241;43m*\u001b[39;49m\u001b[43mkwargs\u001b[49m\u001b[43m,\u001b[49m\u001b[43m \u001b[49m\u001b[43mreturn_values_direct\u001b[49m\u001b[38;5;241;43m=\u001b[39;49m\u001b[38;5;28;43;01mFalse\u001b[39;49;00m\u001b[43m)\u001b[49m\n\u001b[1;32m    262\u001b[0m     \u001b[38;5;28;01mreturn\u001b[39;00m dspy\u001b[38;5;241m.\u001b[39mPrediction(\u001b[38;5;241m*\u001b[39m\u001b[38;5;241m*\u001b[39moutput_dict)\n",
      "File \u001b[0;32m/App/tlim2/Anaconda3/envs/llamaindex/lib/python3.12/site-packages/llama_index/core/query_pipeline/query.py:410\u001b[0m, in \u001b[0;36mQueryPipeline.run\u001b[0;34m(self, return_values_direct, callback_manager, batch, *args, **kwargs)\u001b[0m\n\u001b[1;32m    406\u001b[0m     query_payload \u001b[38;5;241m=\u001b[39m json\u001b[38;5;241m.\u001b[39mdumps(\u001b[38;5;28mstr\u001b[39m(kwargs))\n\u001b[1;32m    407\u001b[0m \u001b[38;5;28;01mwith\u001b[39;00m \u001b[38;5;28mself\u001b[39m\u001b[38;5;241m.\u001b[39mcallback_manager\u001b[38;5;241m.\u001b[39mevent(\n\u001b[1;32m    408\u001b[0m     CBEventType\u001b[38;5;241m.\u001b[39mQUERY, payload\u001b[38;5;241m=\u001b[39m{EventPayload\u001b[38;5;241m.\u001b[39mQUERY_STR: query_payload}\n\u001b[1;32m    409\u001b[0m ) \u001b[38;5;28;01mas\u001b[39;00m query_event:\n\u001b[0;32m--> 410\u001b[0m     outputs, _ \u001b[38;5;241m=\u001b[39m \u001b[38;5;28;43mself\u001b[39;49m\u001b[38;5;241;43m.\u001b[39;49m\u001b[43m_run\u001b[49m\u001b[43m(\u001b[49m\n\u001b[1;32m    411\u001b[0m \u001b[43m        \u001b[49m\u001b[38;5;241;43m*\u001b[39;49m\u001b[43margs\u001b[49m\u001b[43m,\u001b[49m\n\u001b[1;32m    412\u001b[0m \u001b[43m        \u001b[49m\u001b[43mreturn_values_direct\u001b[49m\u001b[38;5;241;43m=\u001b[39;49m\u001b[43mreturn_values_direct\u001b[49m\u001b[43m,\u001b[49m\n\u001b[1;32m    413\u001b[0m \u001b[43m        \u001b[49m\u001b[43mshow_intermediates\u001b[49m\u001b[38;5;241;43m=\u001b[39;49m\u001b[38;5;28;43;01mFalse\u001b[39;49;00m\u001b[43m,\u001b[49m\n\u001b[1;32m    414\u001b[0m \u001b[43m        \u001b[49m\u001b[43mbatch\u001b[49m\u001b[38;5;241;43m=\u001b[39;49m\u001b[43mbatch\u001b[49m\u001b[43m,\u001b[49m\n\u001b[1;32m    415\u001b[0m \u001b[43m        \u001b[49m\u001b[38;5;241;43m*\u001b[39;49m\u001b[38;5;241;43m*\u001b[39;49m\u001b[43mkwargs\u001b[49m\u001b[43m,\u001b[49m\n\u001b[1;32m    416\u001b[0m \u001b[43m    \u001b[49m\u001b[43m)\u001b[49m\n\u001b[1;32m    418\u001b[0m     \u001b[38;5;28;01mreturn\u001b[39;00m outputs\n",
      "File \u001b[0;32m/App/tlim2/Anaconda3/envs/llamaindex/lib/python3.12/site-packages/llama_index/core/query_pipeline/query.py:774\u001b[0m, in \u001b[0;36mQueryPipeline._run\u001b[0;34m(self, return_values_direct, show_intermediates, batch, *args, **kwargs)\u001b[0m\n\u001b[1;32m    772\u001b[0m     \u001b[38;5;28;01mreturn\u001b[39;00m result_outputs, intermediates\n\u001b[1;32m    773\u001b[0m \u001b[38;5;28;01melse\u001b[39;00m:\n\u001b[0;32m--> 774\u001b[0m     result_outputs, intermediates \u001b[38;5;241m=\u001b[39m \u001b[38;5;28;43mself\u001b[39;49m\u001b[38;5;241;43m.\u001b[39;49m\u001b[43m_run_multi\u001b[49m\u001b[43m(\u001b[49m\n\u001b[1;32m    775\u001b[0m \u001b[43m        \u001b[49m\u001b[43m{\u001b[49m\u001b[43mroot_key\u001b[49m\u001b[43m:\u001b[49m\u001b[43m \u001b[49m\u001b[43mkwargs\u001b[49m\u001b[43m}\u001b[49m\u001b[43m,\u001b[49m\u001b[43m \u001b[49m\u001b[43mshow_intermediates\u001b[49m\u001b[38;5;241;43m=\u001b[39;49m\u001b[43mshow_intermediates\u001b[49m\n\u001b[1;32m    776\u001b[0m \u001b[43m    \u001b[49m\u001b[43m)\u001b[49m\n\u001b[1;32m    778\u001b[0m     \u001b[38;5;28;01mreturn\u001b[39;00m (\n\u001b[1;32m    779\u001b[0m         \u001b[38;5;28mself\u001b[39m\u001b[38;5;241m.\u001b[39m_get_single_result_output(result_outputs, return_values_direct),\n\u001b[1;32m    780\u001b[0m         intermediates,\n\u001b[1;32m    781\u001b[0m     )\n",
      "File \u001b[0;32m/App/tlim2/Anaconda3/envs/llamaindex/lib/python3.12/site-packages/llama_index/core/query_pipeline/query.py:925\u001b[0m, in \u001b[0;36mQueryPipeline._run_multi\u001b[0;34m(self, module_input_dict, show_intermediates)\u001b[0m\n\u001b[1;32m    923\u001b[0m \u001b[38;5;28;01mif\u001b[39;00m \u001b[38;5;28mself\u001b[39m\u001b[38;5;241m.\u001b[39mverbose:\n\u001b[1;32m    924\u001b[0m     print_debug_input(module_key, module_input)\n\u001b[0;32m--> 925\u001b[0m output_dict \u001b[38;5;241m=\u001b[39m \u001b[43mmodule\u001b[49m\u001b[38;5;241;43m.\u001b[39;49m\u001b[43mrun_component\u001b[49m\u001b[43m(\u001b[49m\u001b[38;5;241;43m*\u001b[39;49m\u001b[38;5;241;43m*\u001b[39;49m\u001b[43mmodule_input\u001b[49m\u001b[43m)\u001b[49m\n\u001b[1;32m    927\u001b[0m \u001b[38;5;28;01mif\u001b[39;00m (\n\u001b[1;32m    928\u001b[0m     show_intermediates\n\u001b[1;32m    929\u001b[0m     \u001b[38;5;129;01mand\u001b[39;00m module_key \u001b[38;5;129;01mnot\u001b[39;00m \u001b[38;5;129;01min\u001b[39;00m run_state\u001b[38;5;241m.\u001b[39mintermediate_outputs\n\u001b[1;32m    930\u001b[0m ):\n\u001b[1;32m    931\u001b[0m     run_state\u001b[38;5;241m.\u001b[39mintermediate_outputs[module_key] \u001b[38;5;241m=\u001b[39m ComponentIntermediates(\n\u001b[1;32m    932\u001b[0m         inputs\u001b[38;5;241m=\u001b[39mmodule_input, outputs\u001b[38;5;241m=\u001b[39moutput_dict\n\u001b[1;32m    933\u001b[0m     )\n",
      "File \u001b[0;32m/App/tlim2/Anaconda3/envs/llamaindex/lib/python3.12/site-packages/llama_index/core/base/query_pipeline/query.py:203\u001b[0m, in \u001b[0;36mQueryComponent.run_component\u001b[0;34m(self, **kwargs)\u001b[0m\n\u001b[1;32m    201\u001b[0m kwargs\u001b[38;5;241m.\u001b[39mupdate(\u001b[38;5;28mself\u001b[39m\u001b[38;5;241m.\u001b[39mpartial_dict)\n\u001b[1;32m    202\u001b[0m kwargs \u001b[38;5;241m=\u001b[39m \u001b[38;5;28mself\u001b[39m\u001b[38;5;241m.\u001b[39mvalidate_component_inputs(kwargs)\n\u001b[0;32m--> 203\u001b[0m component_outputs \u001b[38;5;241m=\u001b[39m \u001b[38;5;28;43mself\u001b[39;49m\u001b[38;5;241;43m.\u001b[39;49m\u001b[43m_run_component\u001b[49m\u001b[43m(\u001b[49m\u001b[38;5;241;43m*\u001b[39;49m\u001b[38;5;241;43m*\u001b[39;49m\u001b[43mkwargs\u001b[49m\u001b[43m)\u001b[49m\n\u001b[1;32m    204\u001b[0m \u001b[38;5;28;01mreturn\u001b[39;00m \u001b[38;5;28mself\u001b[39m\u001b[38;5;241m.\u001b[39mvalidate_component_outputs(component_outputs)\n",
      "File \u001b[0;32m/App/tlim2/Anaconda3/envs/llamaindex/lib/python3.12/site-packages/llama_index/core/base/base_retriever.py:345\u001b[0m, in \u001b[0;36mRetrieverComponent._run_component\u001b[0;34m(self, **kwargs)\u001b[0m\n\u001b[1;32m    343\u001b[0m \u001b[38;5;28;01mdef\u001b[39;00m \u001b[38;5;21m_run_component\u001b[39m(\u001b[38;5;28mself\u001b[39m, \u001b[38;5;241m*\u001b[39m\u001b[38;5;241m*\u001b[39mkwargs: Any) \u001b[38;5;241m-\u001b[39m\u001b[38;5;241m>\u001b[39m Any:\n\u001b[1;32m    344\u001b[0m \u001b[38;5;250m    \u001b[39m\u001b[38;5;124;03m\"\"\"Run component.\"\"\"\u001b[39;00m\n\u001b[0;32m--> 345\u001b[0m     output \u001b[38;5;241m=\u001b[39m \u001b[38;5;28;43mself\u001b[39;49m\u001b[38;5;241;43m.\u001b[39;49m\u001b[43mretriever\u001b[49m\u001b[38;5;241;43m.\u001b[39;49m\u001b[43mretrieve\u001b[49m\u001b[43m(\u001b[49m\u001b[43mkwargs\u001b[49m\u001b[43m[\u001b[49m\u001b[38;5;124;43m\"\u001b[39;49m\u001b[38;5;124;43minput\u001b[39;49m\u001b[38;5;124;43m\"\u001b[39;49m\u001b[43m]\u001b[49m\u001b[43m)\u001b[49m\n\u001b[1;32m    346\u001b[0m     \u001b[38;5;28;01mreturn\u001b[39;00m {\u001b[38;5;124m\"\u001b[39m\u001b[38;5;124moutput\u001b[39m\u001b[38;5;124m\"\u001b[39m: output}\n",
      "File \u001b[0;32m/App/tlim2/Anaconda3/envs/llamaindex/lib/python3.12/site-packages/llama_index/core/instrumentation/dispatcher.py:230\u001b[0m, in \u001b[0;36mDispatcher.span.<locals>.wrapper\u001b[0;34m(func, instance, args, kwargs)\u001b[0m\n\u001b[1;32m    226\u001b[0m \u001b[38;5;28mself\u001b[39m\u001b[38;5;241m.\u001b[39mspan_enter(\n\u001b[1;32m    227\u001b[0m     id_\u001b[38;5;241m=\u001b[39mid_, bound_args\u001b[38;5;241m=\u001b[39mbound_args, instance\u001b[38;5;241m=\u001b[39minstance, parent_id\u001b[38;5;241m=\u001b[39mparent_id\n\u001b[1;32m    228\u001b[0m )\n\u001b[1;32m    229\u001b[0m \u001b[38;5;28;01mtry\u001b[39;00m:\n\u001b[0;32m--> 230\u001b[0m     result \u001b[38;5;241m=\u001b[39m \u001b[43mfunc\u001b[49m\u001b[43m(\u001b[49m\u001b[38;5;241;43m*\u001b[39;49m\u001b[43margs\u001b[49m\u001b[43m,\u001b[49m\u001b[43m \u001b[49m\u001b[38;5;241;43m*\u001b[39;49m\u001b[38;5;241;43m*\u001b[39;49m\u001b[43mkwargs\u001b[49m\u001b[43m)\u001b[49m\n\u001b[1;32m    231\u001b[0m \u001b[38;5;28;01mexcept\u001b[39;00m \u001b[38;5;167;01mBaseException\u001b[39;00m \u001b[38;5;28;01mas\u001b[39;00m e:\n\u001b[1;32m    232\u001b[0m     \u001b[38;5;28mself\u001b[39m\u001b[38;5;241m.\u001b[39mevent(SpanDropEvent(span_id\u001b[38;5;241m=\u001b[39mid_, err_str\u001b[38;5;241m=\u001b[39m\u001b[38;5;28mstr\u001b[39m(e)))\n",
      "File \u001b[0;32m/App/tlim2/Anaconda3/envs/llamaindex/lib/python3.12/site-packages/llama_index/core/base/base_retriever.py:243\u001b[0m, in \u001b[0;36mBaseRetriever.retrieve\u001b[0;34m(self, str_or_query_bundle)\u001b[0m\n\u001b[1;32m    238\u001b[0m \u001b[38;5;28;01mwith\u001b[39;00m \u001b[38;5;28mself\u001b[39m\u001b[38;5;241m.\u001b[39mcallback_manager\u001b[38;5;241m.\u001b[39mas_trace(\u001b[38;5;124m\"\u001b[39m\u001b[38;5;124mquery\u001b[39m\u001b[38;5;124m\"\u001b[39m):\n\u001b[1;32m    239\u001b[0m     \u001b[38;5;28;01mwith\u001b[39;00m \u001b[38;5;28mself\u001b[39m\u001b[38;5;241m.\u001b[39mcallback_manager\u001b[38;5;241m.\u001b[39mevent(\n\u001b[1;32m    240\u001b[0m         CBEventType\u001b[38;5;241m.\u001b[39mRETRIEVE,\n\u001b[1;32m    241\u001b[0m         payload\u001b[38;5;241m=\u001b[39m{EventPayload\u001b[38;5;241m.\u001b[39mQUERY_STR: query_bundle\u001b[38;5;241m.\u001b[39mquery_str},\n\u001b[1;32m    242\u001b[0m     ) \u001b[38;5;28;01mas\u001b[39;00m retrieve_event:\n\u001b[0;32m--> 243\u001b[0m         nodes \u001b[38;5;241m=\u001b[39m \u001b[38;5;28;43mself\u001b[39;49m\u001b[38;5;241;43m.\u001b[39;49m\u001b[43m_retrieve\u001b[49m\u001b[43m(\u001b[49m\u001b[43mquery_bundle\u001b[49m\u001b[43m)\u001b[49m\n\u001b[1;32m    244\u001b[0m         nodes \u001b[38;5;241m=\u001b[39m \u001b[38;5;28mself\u001b[39m\u001b[38;5;241m.\u001b[39m_handle_recursive_retrieval(query_bundle, nodes)\n\u001b[1;32m    245\u001b[0m         retrieve_event\u001b[38;5;241m.\u001b[39mon_end(\n\u001b[1;32m    246\u001b[0m             payload\u001b[38;5;241m=\u001b[39m{EventPayload\u001b[38;5;241m.\u001b[39mNODES: nodes},\n\u001b[1;32m    247\u001b[0m         )\n",
      "File \u001b[0;32m/App/tlim2/Anaconda3/envs/llamaindex/lib/python3.12/site-packages/llama_index/core/instrumentation/dispatcher.py:230\u001b[0m, in \u001b[0;36mDispatcher.span.<locals>.wrapper\u001b[0;34m(func, instance, args, kwargs)\u001b[0m\n\u001b[1;32m    226\u001b[0m \u001b[38;5;28mself\u001b[39m\u001b[38;5;241m.\u001b[39mspan_enter(\n\u001b[1;32m    227\u001b[0m     id_\u001b[38;5;241m=\u001b[39mid_, bound_args\u001b[38;5;241m=\u001b[39mbound_args, instance\u001b[38;5;241m=\u001b[39minstance, parent_id\u001b[38;5;241m=\u001b[39mparent_id\n\u001b[1;32m    228\u001b[0m )\n\u001b[1;32m    229\u001b[0m \u001b[38;5;28;01mtry\u001b[39;00m:\n\u001b[0;32m--> 230\u001b[0m     result \u001b[38;5;241m=\u001b[39m \u001b[43mfunc\u001b[49m\u001b[43m(\u001b[49m\u001b[38;5;241;43m*\u001b[39;49m\u001b[43margs\u001b[49m\u001b[43m,\u001b[49m\u001b[43m \u001b[49m\u001b[38;5;241;43m*\u001b[39;49m\u001b[38;5;241;43m*\u001b[39;49m\u001b[43mkwargs\u001b[49m\u001b[43m)\u001b[49m\n\u001b[1;32m    231\u001b[0m \u001b[38;5;28;01mexcept\u001b[39;00m \u001b[38;5;167;01mBaseException\u001b[39;00m \u001b[38;5;28;01mas\u001b[39;00m e:\n\u001b[1;32m    232\u001b[0m     \u001b[38;5;28mself\u001b[39m\u001b[38;5;241m.\u001b[39mevent(SpanDropEvent(span_id\u001b[38;5;241m=\u001b[39mid_, err_str\u001b[38;5;241m=\u001b[39m\u001b[38;5;28mstr\u001b[39m(e)))\n",
      "File \u001b[0;32m/App/tlim2/Anaconda3/envs/llamaindex/lib/python3.12/site-packages/llama_index/core/indices/vector_store/retrievers/retriever.py:101\u001b[0m, in \u001b[0;36mVectorIndexRetriever._retrieve\u001b[0;34m(self, query_bundle)\u001b[0m\n\u001b[1;32m     95\u001b[0m     \u001b[38;5;28;01mif\u001b[39;00m query_bundle\u001b[38;5;241m.\u001b[39membedding \u001b[38;5;129;01mis\u001b[39;00m \u001b[38;5;28;01mNone\u001b[39;00m \u001b[38;5;129;01mand\u001b[39;00m \u001b[38;5;28mlen\u001b[39m(query_bundle\u001b[38;5;241m.\u001b[39membedding_strs) \u001b[38;5;241m>\u001b[39m \u001b[38;5;241m0\u001b[39m:\n\u001b[1;32m     96\u001b[0m         query_bundle\u001b[38;5;241m.\u001b[39membedding \u001b[38;5;241m=\u001b[39m (\n\u001b[1;32m     97\u001b[0m             \u001b[38;5;28mself\u001b[39m\u001b[38;5;241m.\u001b[39m_embed_model\u001b[38;5;241m.\u001b[39mget_agg_embedding_from_queries(\n\u001b[1;32m     98\u001b[0m                 query_bundle\u001b[38;5;241m.\u001b[39membedding_strs\n\u001b[1;32m     99\u001b[0m             )\n\u001b[1;32m    100\u001b[0m         )\n\u001b[0;32m--> 101\u001b[0m \u001b[38;5;28;01mreturn\u001b[39;00m \u001b[38;5;28;43mself\u001b[39;49m\u001b[38;5;241;43m.\u001b[39;49m\u001b[43m_get_nodes_with_embeddings\u001b[49m\u001b[43m(\u001b[49m\u001b[43mquery_bundle\u001b[49m\u001b[43m)\u001b[49m\n",
      "File \u001b[0;32m/App/tlim2/Anaconda3/envs/llamaindex/lib/python3.12/site-packages/llama_index/core/indices/vector_store/retrievers/retriever.py:177\u001b[0m, in \u001b[0;36mVectorIndexRetriever._get_nodes_with_embeddings\u001b[0;34m(self, query_bundle_with_embeddings)\u001b[0m\n\u001b[1;32m    173\u001b[0m \u001b[38;5;28;01mdef\u001b[39;00m \u001b[38;5;21m_get_nodes_with_embeddings\u001b[39m(\n\u001b[1;32m    174\u001b[0m     \u001b[38;5;28mself\u001b[39m, query_bundle_with_embeddings: QueryBundle\n\u001b[1;32m    175\u001b[0m ) \u001b[38;5;241m-\u001b[39m\u001b[38;5;241m>\u001b[39m List[NodeWithScore]:\n\u001b[1;32m    176\u001b[0m     query \u001b[38;5;241m=\u001b[39m \u001b[38;5;28mself\u001b[39m\u001b[38;5;241m.\u001b[39m_build_vector_store_query(query_bundle_with_embeddings)\n\u001b[0;32m--> 177\u001b[0m     query_result \u001b[38;5;241m=\u001b[39m \u001b[38;5;28;43mself\u001b[39;49m\u001b[38;5;241;43m.\u001b[39;49m\u001b[43m_vector_store\u001b[49m\u001b[38;5;241;43m.\u001b[39;49m\u001b[43mquery\u001b[49m\u001b[43m(\u001b[49m\u001b[43mquery\u001b[49m\u001b[43m,\u001b[49m\u001b[43m \u001b[49m\u001b[38;5;241;43m*\u001b[39;49m\u001b[38;5;241;43m*\u001b[39;49m\u001b[38;5;28;43mself\u001b[39;49m\u001b[38;5;241;43m.\u001b[39;49m\u001b[43m_kwargs\u001b[49m\u001b[43m)\u001b[49m\n\u001b[1;32m    178\u001b[0m     \u001b[38;5;28;01mreturn\u001b[39;00m \u001b[38;5;28mself\u001b[39m\u001b[38;5;241m.\u001b[39m_build_node_list_from_query_result(query_result)\n",
      "File \u001b[0;32m/App/tlim2/Anaconda3/envs/llamaindex/lib/python3.12/site-packages/llama_index/vector_stores/qdrant/base.py:799\u001b[0m, in \u001b[0;36mQdrantVectorStore.query\u001b[0;34m(self, query, **kwargs)\u001b[0m\n\u001b[1;32m    795\u001b[0m     \u001b[38;5;28;01mreturn\u001b[39;00m \u001b[38;5;28mself\u001b[39m\u001b[38;5;241m.\u001b[39mparse_to_query_result(sparse_response[\u001b[38;5;241m0\u001b[39m])\n\u001b[1;32m    797\u001b[0m \u001b[38;5;28;01melif\u001b[39;00m \u001b[38;5;28mself\u001b[39m\u001b[38;5;241m.\u001b[39menable_hybrid:\n\u001b[1;32m    798\u001b[0m     \u001b[38;5;66;03m# search for dense vectors only\u001b[39;00m\n\u001b[0;32m--> 799\u001b[0m     response \u001b[38;5;241m=\u001b[39m \u001b[38;5;28;43mself\u001b[39;49m\u001b[38;5;241;43m.\u001b[39;49m\u001b[43m_client\u001b[49m\u001b[38;5;241m.\u001b[39msearch_batch(\n\u001b[1;32m    800\u001b[0m         collection_name\u001b[38;5;241m=\u001b[39m\u001b[38;5;28mself\u001b[39m\u001b[38;5;241m.\u001b[39mcollection_name,\n\u001b[1;32m    801\u001b[0m         requests\u001b[38;5;241m=\u001b[39m[\n\u001b[1;32m    802\u001b[0m             rest\u001b[38;5;241m.\u001b[39mSearchRequest(\n\u001b[1;32m    803\u001b[0m                 vector\u001b[38;5;241m=\u001b[39mrest\u001b[38;5;241m.\u001b[39mNamedVector(\n\u001b[1;32m    804\u001b[0m                     name\u001b[38;5;241m=\u001b[39mDENSE_VECTOR_NAME,\n\u001b[1;32m    805\u001b[0m                     vector\u001b[38;5;241m=\u001b[39mquery_embedding,\n\u001b[1;32m    806\u001b[0m                 ),\n\u001b[1;32m    807\u001b[0m                 limit\u001b[38;5;241m=\u001b[39mquery\u001b[38;5;241m.\u001b[39msimilarity_top_k,\n\u001b[1;32m    808\u001b[0m                 \u001b[38;5;28mfilter\u001b[39m\u001b[38;5;241m=\u001b[39mquery_filter,\n\u001b[1;32m    809\u001b[0m                 with_payload\u001b[38;5;241m=\u001b[39m\u001b[38;5;28;01mTrue\u001b[39;00m,\n\u001b[1;32m    810\u001b[0m             ),\n\u001b[1;32m    811\u001b[0m         ],\n\u001b[1;32m    812\u001b[0m     )\n\u001b[1;32m    814\u001b[0m     \u001b[38;5;28;01mreturn\u001b[39;00m \u001b[38;5;28mself\u001b[39m\u001b[38;5;241m.\u001b[39mparse_to_query_result(response[\u001b[38;5;241m0\u001b[39m])\n\u001b[1;32m    815\u001b[0m \u001b[38;5;28;01melse\u001b[39;00m:\n",
      "\u001b[0;31mAttributeError\u001b[0m: 'QdrantVectorStore' object has no attribute '_client'"
     ]
    }
   ],
   "source": [
    "teleprompter = BootstrapFewShot(\n",
    "    max_labeled_demos=0,\n",
    "    metric=validate_context_and_answer\n",
    ")\n",
    "compiled_dspy_qp = teleprompter.compile(dspy_qp, trainset=train_examples)"
   ]
  },
  {
   "cell_type": "code",
   "execution_count": 48,
   "metadata": {},
   "outputs": [
    {
     "name": "stdout",
     "output_type": "stream",
     "text": [
      "\u001b[1;3;38;2;155;135;227m> Running module input with input: \n",
      "query_str: What is a candlestick chart?\n",
      "\n",
      "\u001b[0m\u001b[1;3;38;2;155;135;227m> Running module retriever with input: \n",
      "input: What is a candlestick chart?\n",
      "\n",
      "\u001b[0m\u001b[1;3;38;2;155;135;227m> Running module retriever_post with input: \n",
      "contexts: [NodeWithScore(node=TextNode(id_='a39a4a89-6346-4f02-a1ce-72026c743e78', embedding=None, metadata={}, excluded_embed_metadata_keys=[], excluded_llm_metadata_keys=[], relationships={<NodeRelationship.S...\n",
      "\n",
      "\u001b[0m\u001b[1;3;38;2;155;135;227m> Running module synthesizer with input: \n",
      "query_str: What is a candlestick chart?\n",
      "context_str: [A trader looks at\n",
      "computers at the New York Stock Exchange\n",
      "](https://www.investopedia.com/thmb/21-q3vCQLoG4FvwkkF1IwTkSr9o=/400x300/filters:no_upscale\\(\\):max_bytes\\(150000\\):strip_icc\\(\\)/GettyImage...\n",
      "\n",
      "\u001b[0m"
     ]
    },
    {
     "data": {
      "text/plain": [
       "Prediction(\n",
       "    answer='A candlestick chart is a type of financial chart used in technical analysis that displays the high, low, open, and close prices of a security for a given time period. The key features of a candlestick chart are:\\n\\n1. The \"body\" of the candlestick represents the opening and closing prices, with the body being filled ('\n",
       ")"
      ]
     },
     "execution_count": 48,
     "metadata": {},
     "output_type": "execute_result"
    }
   ],
   "source": [
    "compiled_dspy_qp(query_str=\"What is a candlestick chart?\")"
   ]
  },
  {
   "cell_type": "markdown",
   "metadata": {},
   "source": [
    "## Get finetuned prompt and port it over to LlamaIndex "
   ]
  },
  {
   "cell_type": "code",
   "execution_count": 56,
   "metadata": {},
   "outputs": [],
   "source": [
    "from dspy.predict.llamaindex import DSPyPromptTemplate\n",
    "\n",
    "qa_prompt_tmpl = DSPyPromptTemplate(\n",
    "    compiled_dspy_qp.query_pipeline.module_dict[\"synthesizer\"].predict_module\n",
    ")"
   ]
  },
  {
   "cell_type": "code",
   "execution_count": 59,
   "metadata": {},
   "outputs": [],
   "source": [
    "from IPython.display import display, Markdown"
   ]
  },
  {
   "cell_type": "code",
   "execution_count": 79,
   "metadata": {},
   "outputs": [
    {
     "data": {
      "text/markdown": [
       "<b>The key points about P/E ratio from the context are:\n",
       "\n",
       "1. The P/E (price-to-earnings) ratio measures a company's current share price relative to its per-share earnings. \n",
       "\n",
       "2. It is calculated by dividing a company's market value per share by its earnings per share.\n",
       "\n",
       "3. The P/E ratio allows investors to compare the valuation of different companies. A higher P/E ratio generally indicates a company's stock is more expensive compared to its earnings.\n",
       "\n",
       "4. A company with a higher P/E ratio than its peers may be justified if it is growing faster. A lower P/E ratio with fast growth could also be an attractive investment.\n",
       "\n",
       "5. Comparing a company's P/E ratio to those of similar companies in the same industry can help determine if it is under- or over-valued.\n",
       "\n",
       "In summary, the P/E ratio is a key metric used by investors to assess a company's valuation relative to its earnings performance and compared to its peers.</b>"
      ],
      "text/plain": [
       "<IPython.core.display.Markdown object>"
      ]
     },
     "metadata": {},
     "output_type": "display_data"
    }
   ],
   "source": [
    "query_engine = index.as_query_engine(\n",
    "    text_qa_template = qa_prompt_tmpl\n",
    ")\n",
    "\n",
    "response = query_engine.query(\n",
    "    \"What do investors look out for in a P/E ratio?\"\n",
    ")\n",
    "\n",
    "display(Markdown(f\"<b>{response}</b>\"))"
   ]
  },
  {
   "cell_type": "code",
   "execution_count": 82,
   "metadata": {},
   "outputs": [],
   "source": [
    "with open(\"prompt.txt\", \"w\") as file:\n",
    "    file.write(qa_prompt_tmpl.get_template())\n",
    "    file.close()"
   ]
  },
  {
   "cell_type": "code",
   "execution_count": 83,
   "metadata": {},
   "outputs": [
    {
     "data": {
      "text/markdown": [
       "<b>The key points about P/E ratio from the context are:\n",
       "\n",
       "1. The P/E (price-to-earnings) ratio measures a company's current share price relative to its per-share earnings. \n",
       "\n",
       "2. It is calculated by dividing a company's market value per share by its earnings per share.\n",
       "\n",
       "3. The P/E ratio allows investors to compare the valuation of different companies. A higher P/E ratio generally indicates a company's stock is more expensive compared to its earnings.\n",
       "\n",
       "4. A company with a higher P/E ratio than its peers may be justified if it is growing faster. A lower P/E ratio with fast growth could also be an attractive investment.\n",
       "\n",
       "5. Comparing a company's P/E ratio to those of similar companies in the same industry helps determine if it is under- or over-valued.\n",
       "\n",
       "In summary, the P/E ratio is a key metric used by investors to assess a company's valuation relative to its earnings performance and compared to its peers.</b>"
      ],
      "text/plain": [
       "<IPython.core.display.Markdown object>"
      ]
     },
     "metadata": {},
     "output_type": "display_data"
    }
   ],
   "source": [
    "from llama_index.core import PromptTemplate\n",
    "\n",
    "file = open(\"prompt.txt\", \"r\")\n",
    "tmpl = PromptTemplate(file.read())\n",
    "\n",
    "qe = index.as_query_engine(\n",
    "    text_qa_template = tmpl\n",
    ")\n",
    "response = query_engine.query(\n",
    "    \"What do investors look out for in a P/E ratio?\"\n",
    ")\n",
    "\n",
    "display(Markdown(f\"<b>{response}</b>\"))"
   ]
  },
  {
   "cell_type": "code",
   "execution_count": 88,
   "metadata": {},
   "outputs": [],
   "source": [
    "from llama_index.core.tools import (\n",
    "    QueryEngineTool,\n",
    "    ToolMetadata\n",
    ")\n",
    "\n",
    "query_engine_tool = [\n",
    "    QueryEngineTool(\n",
    "        query_engine=query_engine,\n",
    "        metadata = ToolMetadata(\n",
    "            name=\"investopedia_tool\",\n",
    "            description = (\n",
    "                \"Provides conceptual information relating to the stock market, \"\n",
    "                \"stock market instruments such as options and futures, \"\n",
    "                \"as well as conceptual understanding for metrics used in \"\n",
    "                \"technical analysis and fundamental analysis.\"\n",
    "            )\n",
    "        )\n",
    "    )\n",
    "]"
   ]
  },
  {
   "cell_type": "code",
   "execution_count": 91,
   "metadata": {},
   "outputs": [
    {
     "name": "stdout",
     "output_type": "stream",
     "text": [
      "\u001b[1;3;38;5;200mThought: The current language of the user is: English. I need to use a tool to help me answer the question.\n",
      "Action: investopedia_tool\n",
      "Action Input: {'input': 'difference between technical and fundamental analysis'}\n",
      "\u001b[0m\u001b[1;3;34mObservation: I do not have enough context to provide a meaningful answer to your query. The provided text discusses technical analysis, its underlying assumptions, and the differences between technical analysis and fundamental analysis. However, there is no specific question asked that I can directly respond to. If you have a more specific question related to the information provided, please feel free to ask, and I'll do my best to provide a helpful answer.\n",
      "\u001b[0m\u001b[1;3;38;5;200mThought: I can answer the question about the difference between technical and fundamental analysis without using any more tools.\n",
      "Answer: The main difference between technical analysis and fundamental analysis is the approach they take to evaluating and making investment decisions.\n",
      "\n",
      "Technical analysis focuses on studying the historical price and volume data of a security, with the goal of identifying patterns and trends that can be used to predict future price movements. Technical analysts believe that past market data, such as stock prices and trading volume, can be used to forecast future activity.\n",
      "\n",
      "On the other hand, fundamental analysis looks at the underlying economic and financial factors that can influence a security's value, such as a company's financial statements, management, competitive position, and macroeconomic conditions. Fundamental analysts try to determine the intrinsic value of a security based on these factors, and then compare that to the current market price to identify undervalued or overvalued securities.\n",
      "\n",
      "In summary, technical analysis is focused on the price action and trading patterns of a security, while fundamental analysis is focused on the underlying business and economic factors that can impact a security's value.\n",
      "\u001b[0m"
     ]
    },
    {
     "data": {
      "text/markdown": [
       "<b>The main difference between technical analysis and fundamental analysis is the approach they take to evaluating and making investment decisions.\n",
       "\n",
       "Technical analysis focuses on studying the historical price and volume data of a security, with the goal of identifying patterns and trends that can be used to predict future price movements. Technical analysts believe that past market data, such as stock prices and trading volume, can be used to forecast future activity.\n",
       "\n",
       "On the other hand, fundamental analysis looks at the underlying economic and financial factors that can influence a security's value, such as a company's financial statements, management, competitive position, and macroeconomic conditions. Fundamental analysts try to determine the intrinsic value of a security based on these factors, and then compare that to the current market price to identify undervalued or overvalued securities.\n",
       "\n",
       "In summary, technical analysis is focused on the price action and trading patterns of a security, while fundamental analysis is focused on the underlying business and economic factors that can impact a security's value.</b>"
      ],
      "text/plain": [
       "<IPython.core.display.Markdown object>"
      ]
     },
     "metadata": {},
     "output_type": "display_data"
    }
   ],
   "source": [
    "from llama_index.core.agent import ReActAgent\n",
    "\n",
    "agent = ReActAgent.from_tools(query_engine_tool, llm=Settings.llm, verbose=True)\n",
    "response = agent.chat(\"What is the difference between technical and fundamental analysis\")\n",
    "display(Markdown(f\"<b>{response}</b>\"))"
   ]
  },
  {
   "cell_type": "markdown",
   "metadata": {},
   "source": [
    "## Export"
   ]
  },
  {
   "cell_type": "code",
   "execution_count": 93,
   "metadata": {},
   "outputs": [
    {
     "name": "stdout",
     "output_type": "stream",
     "text": [
      "Overwriting prompt_optimization.py\n"
     ]
    }
   ],
   "source": [
    "%%writefile ../tools/prompt_optimization.py\n",
    "\n",
    "import os\n",
    "from dotenv import load_dotenv, find_dotenv\n",
    "from llama_index.core import (\n",
    "    VectorStoreIndex,\n",
    "    StorageContext,\n",
    "    load_index_from_storage\n",
    ")\n",
    "from llama_index.core.evaluation import SemanticSimilarityEvaluator\n",
    "from llama_index.core.query_pipeline import (\n",
    "    QueryPipeline as QP,\n",
    "    InputComponent,\n",
    "    FnComponent\n",
    ")\n",
    "\n",
    "import dspy\n",
    "from dspy import Example\n",
    "from dspy.predict.llamaindex import (\n",
    "    DSPyComponent,\n",
    "    LlamaIndexModule\n",
    ")\n",
    "from dspy.teleprompt import BootstrapFewShot\n",
    "from dspy.predict.llamaindex import DSPyPromptTemplate\n",
    "\n",
    "import sys\n",
    "__curdir__ = os.getcwd()\n",
    "if \"tools\" in __curdir__:\n",
    "    sys.path.append(os.path.join(\n",
    "        __curdir__,\n",
    "        \"../src\"\n",
    "    ))\n",
    "    storage_dir = \"../VectorIndex/\"\n",
    "\n",
    "else:\n",
    "    sys.path.append(\"./src\")\n",
    "    storage_dir = \"VectorIndex\"\n",
    "    \n",
    "from utils import CustomWebPageReader\n",
    "from llamaindex_config import llm, embed_model\n",
    "\n",
    "### Define variables needed ###\n",
    "_ = load_dotenv(find_dotenv())\n",
    "\n",
    "bedrock = dspy.Bedrock(region_name=\"us-west-2\")\n",
    "lm = dspy.AWSAnthropic(bedrock, \n",
    "                       \"anthropic.claude-3-haiku-20240307-v1:0\")\n",
    "dspy.settings.configure(lm=lm)\n",
    "llm = llm\n",
    "embed_model = embed_model\n",
    "links = [\n",
    "    \"https://www.investopedia.com/terms/s/stockmarket.asp\",\n",
    "    \"https://www.investopedia.com/ask/answers/difference-between-options-and-futures/\",\n",
    "    \"https://www.investopedia.com/financial-edge/0411/5-essential-things-you-need-to-know-about-every-stock-you-buy.aspx\",\n",
    "    \"https://www.investopedia.com/articles/fundamental/04/063004.asp\",\n",
    "    \"https://www.investopedia.com/terms/t/technicalanalysis.asp\"  \n",
    "]\n",
    "evaluator = SemanticSimilarityEvaluator(similarity_threshold=0.5)\n",
    "\n",
    "### Define utility functions ###\n",
    "class GenerateAnswer(dspy.Signature):\n",
    "    \"\"\"Answers questions with short factoid answers.\"\"\"\n",
    "    \n",
    "    context_str = dspy.InputField(desc=\"contains relevant facts\")\n",
    "    query_str = dspy.InputField()\n",
    "    answer = dspy.OutputField(desc = \"Often between 3 to 5 sentences.\")\n",
    "    \n",
    "def load_index(persist_dir=storage_dir, \n",
    "               links=links,\n",
    "               embed_model=embed_model):\n",
    "    \"\"\"Helper function to create an index from data, persist an index \n",
    "    and load an index from storage\"\"\"\n",
    "    if os.path.exists(persist_dir):\n",
    "        storage_context = StorageContext.from_defaults(\n",
    "            persist_dir = storage_dir \n",
    "        )\n",
    "        return load_index_from_storage(storage_context)\n",
    "    \n",
    "    docs = CustomWebPageReader(\n",
    "        html_to_text=True\n",
    "    ).load_data(urls=links)\n",
    "    index = VectorStoreIndex.from_documents(docs,\n",
    "                                            embed_model=embed_model)\n",
    "    index.storage_context.persist(persist_dir=storage_dir)\n",
    "    return index\n",
    "\n",
    "### Prompt Optimization Metric ###\n",
    "def validate_context_and_answer(example, pred, trace=None):\n",
    "    \"\"\"The metric used to validate query engine results. Used as the\n",
    "    optimization metric for prompt opetimization\"\"\"\n",
    "    result = evaluator.evaluate(\n",
    "        response = pred.answer,\n",
    "        reference=example.answer\n",
    "    )\n",
    "    return result.passing\n",
    "\n",
    "### Main function to execute ###\n",
    "def main():\n",
    "    \"\"\"Main function used to train a text_qa_template for a query engine\"\"\"\n",
    "    \n",
    "    index = load_index()\n",
    "    retriever = index.as_retriever(similarity_top_k = 2)\n",
    "    dspy_component = DSPyComponent(\n",
    "        dspy.ChainOfThought(GenerateAnswer)\n",
    "    )\n",
    "    retriever_post = FnComponent(\n",
    "        lambda contexts: \"\\n\\n\".join([n.get_content() for n in contexts])\n",
    "    )\n",
    "    p = QP(verbose=True)\n",
    "    p.add_modules(\n",
    "        {\n",
    "            \"input\": InputComponent(),\n",
    "            \"retriever\": retriever,\n",
    "            \"retriever_post\": retriever_post,\n",
    "            \"synthesizer\": dspy_component,\n",
    "        }\n",
    "    )\n",
    "    p.add_link(\"input\", \"retriever\")\n",
    "    p.add_link(\"retriever\", \"retriever_post\")\n",
    "    p.add_link(\"input\", \"synthesizer\", dest_key=\"query_str\")\n",
    "    p.add_link(\"retriever_post\", \"synthesizer\", dest_key=\"context_str\")\n",
    "\n",
    "    dspy_qp = LlamaIndexModule(p)\n",
    "    \n",
    "    train_examples = [\n",
    "        Example(\n",
    "            query_str = \"What is the difference between an option and a future?\",\n",
    "            answer = \"\"\"An option gives the buyer the right, but not the obligation, to buy (or sell) an asset at a specific price at any time during the life of the contract.\n",
    "            A futures contract obligates the buyer to purchase a specific asset, and the seller to sell and deliver that asset, at a specific future date\n",
    "            \"\"\"\n",
    "        ),\n",
    "        Example(\n",
    "            query_str = \"What are the similarities between an option and a future?\",\n",
    "            answer = \"\"\"Futures and options positions may be traded and closed ahead of expiration, but the parties to the futures contracts for commodities are typically obligated to make and accept deliveries on the settlement date.\"\"\"\n",
    "        ),\n",
    "        Example(\n",
    "            query_str = \"What is an option?\",\n",
    "            answer = \"Options are financial derivatives. An options contract gives an investor the right to buy or sell the underlying instrument at a specific price while the contract is in effect. Investors may choose not to exercise their options. Option holders do not own the underlying shares or enjoy shareholder rights unless they exercise an option to buy stock.\"\n",
    "        ),\n",
    "        Example(\n",
    "            query_str = \"What are the different options?\",\n",
    "            answer = \"There are only two kinds of options: Call options and put options. A call option confers the right to buy a stock at the strike price before the agreement expires. A put option gives the holder the right to sell a stock at a specific price.\"\n",
    "        ),\n",
    "        Example(\n",
    "            query_str=\"What's P/E ratio?\",\n",
    "            answer = \"\"\" This ratio is used to measure a company's current share price relative to its per-share earnings. The company can be compared to other, similar corporations so that analysts and investors can determine its relative value. So if a company has a P/E ratio of 20, this means investors are willing to pay $20 for every $1 per earnings. That might seem expensive but not if the company is growing fast. The P/E can be found by comparing the current market price to the cumulative earnings of the last four quarters.\"\"\"\n",
    "        ),\n",
    "        Example(\n",
    "            query_str=\"What's a dividend?\",\n",
    "            answer = \"\"\"Dividends are like interest in a savings account—you get paid regardless of the stock price. Dividends are distributions made by a company to its shareholders as a reward from its profits. The amount of the dividend is decided by its board of directors and are generally issued in cash, though it isn't uncommon for some companies to issue dividends in the form of stock shares.\"\"\"\n",
    "        ),\n",
    "        Example(\n",
    "            query_str=\"What's a balance sheet?\",\n",
    "            answer=\" A balance sheet is a financial statement that reports a company's assets, liabilities and shareholder equity at a specific point in time\"\n",
    "        ),\n",
    "        Example(\n",
    "            query_str=\"What's a current ratio?\",\n",
    "            answer = \"It's the total current assets divided by total current liabilities, commonly used by analysts to assess the ability of a company to meet its short-term obligations\"\n",
    "        ),\n",
    "        Example(\n",
    "            query_str = \"What are stocks?\",\n",
    "            answer = \"When you buy a stock or a share, you're getting a piece of that company. Owning shares gives you the right to part of the company's profits, often paid as dividends, and sometimes the right to vote on company matters\"\n",
    "        ),\n",
    "        Example(\n",
    "            query_str = \"What are REITs?\",\n",
    "            answer=\"Real estate investment trusts (REITs) are companies that own, manage, or finance real estate. Investors can buy shares in them, and they legally must provide 90% of their profits as dividends each year.\"\n",
    "        ),\n",
    "        Example(\n",
    "            query_str = \"What are brokers?\",\n",
    "            answer = \"Brokers in the stock market play the same role as in insurance and elsewhere, acting as a go-between for investors and the securities markets. They are licensed organizations that buy and sell stocks and other securities for individual and institutional clients.\"\n",
    "        ),\n",
    "        Example(\n",
    "            query_str = \"What is technical analysis?\",\n",
    "            answer = \"Technical analysis is used to scrutinize the ways supply and demand for a security affect changes in price, volume, and implied volatility. It assumes that past trading activity and price changes of a security can be valuable indicators of the security's future price movements when paired with appropriate investing or trading rules.\"\n",
    "        ),\n",
    "        Example(\n",
    "            query_str=\"What is the difference between fundamental and technical analysis?\",\n",
    "            answer = \"Fundamental analysis is a method of evaluating securities by attempting to measure the intrinsic value of a stock. Fundamental analysts study everything from the overall economy and industry conditions to the financial condition and management of companies. Technical analysis differs from fundamental analysis in that the stock's price and volume are the only inputs. The core assumption is that all publicly known fundamentals have factored into price; thus, there is no need to pay close attention to them. Technical analysts do not attempt to measure a security's intrinsic value, but instead, use stock charts to identify patterns and trends that suggest how a stock's price will move in the future.\"\n",
    "        )\n",
    "    ]\n",
    "    train_examples = [t.with_inputs(\"query_str\") for t in train_examples]\n",
    "    \n",
    "    teleprompter = BootstrapFewShot(\n",
    "        max_labeled_demos=0,\n",
    "        metric=validate_context_and_answer\n",
    "    )\n",
    "    compiled_dspy_qp = teleprompter.compile(dspy_qp, trainset=train_examples)\n",
    "    qa_prompt_tmpl = DSPyPromptTemplate(\n",
    "        compiled_dspy_qp.query_pipeline.module_dict[\"synthesizer\"].predict_module\n",
    "    )\n",
    "    with open(\"prompt.txt\", \"w\") as file:\n",
    "        file.write(qa_prompt_tmpl.get_template())\n",
    "        file.close()\n",
    "\n",
    "if __name__ == \"__main__\":\n",
    "    main()\n",
    "    print(\"Execution complete. Optimized prompt saved to 'prompt.txt'\")"
   ]
  },
  {
   "cell_type": "code",
   "execution_count": 92,
   "metadata": {},
   "outputs": [
    {
     "name": "stdout",
     "output_type": "stream",
     "text": [
      "Writing rag_tools.py\n"
     ]
    }
   ],
   "source": [
    "%%writefile ../tools/rag_tools.py\n",
    "\n",
    "import os\n",
    "from .prompt_optimization import load_index\n",
    "\n",
    "import sys\n",
    "__curdir__ = os.getcwd()\n",
    "if \"tools\" in __curdir__:\n",
    "    sys.path.append(os.path.join(\n",
    "        __curdir__,\n",
    "        \"../src\"\n",
    "    ))\n",
    "else:\n",
    "    sys.path.append(\"./src\")\n",
    "from llamaindex_config import llm, embed_model\n",
    "\n",
    "from llama_index.core.tools import (\n",
    "    QueryEngineTool,\n",
    "    ToolMetadata\n",
    ")\n",
    "from llama_index.core import PromptTemplate\n",
    "\n",
    "def get_rag_tools(prompt_path: str):\n",
    "    \"\"\"Returns a query engine tool with a DSPy optimized prompt template\"\"\"\n",
    "    \n",
    "    file = open(prompt_path, \"r\")\n",
    "    file = open(\"prompt.txt\", \"r\")\n",
    "    tmpl = PromptTemplate(file.read())\n",
    "    index = load_index()\n",
    "    query_engine = index.as_query_engine(\n",
    "        text_qa_tmpl = tmpl,\n",
    "        llm = llm,\n",
    "        embed_model=embed_model\n",
    "    )\n",
    "    query_engine_tool = [\n",
    "        QueryEngineTool(\n",
    "            query_engine=query_engine,\n",
    "            metadata = ToolMetadata(\n",
    "                name=\"investopedia_tool\",\n",
    "                description = (\n",
    "                    \"Provides conceptual information relating to the stock market, \"\n",
    "                    \"stock market instruments such as options and futures, \"\n",
    "                    \"as well as conceptual understanding for metrics used in \"\n",
    "                    \"technical analysis and fundamental analysis.\"\n",
    "                )\n",
    "            )\n",
    "        )\n",
    "    ]\n",
    "    return query_engine_tool\n"
   ]
  }
 ],
 "metadata": {
  "kernelspec": {
   "display_name": "llm",
   "language": "python",
   "name": "python3"
  },
  "language_info": {
   "codemirror_mode": {
    "name": "ipython",
    "version": 3
   },
   "file_extension": ".py",
   "mimetype": "text/x-python",
   "name": "python",
   "nbconvert_exporter": "python",
   "pygments_lexer": "ipython3",
   "version": "3.12.2"
  },
  "vscode": {
   "interpreter": {
    "hash": "82e2507e369a2c04f57febbb8f4f2d78d47547386c6ceb772e5963b93e9300c2"
   }
  }
 },
 "nbformat": 4,
 "nbformat_minor": 2
}
