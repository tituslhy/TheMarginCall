{
 "cells": [
  {
   "cell_type": "code",
   "execution_count": 1,
   "metadata": {},
   "outputs": [],
   "source": [
    "%load_ext autoreload\n",
    "%autoreload 2"
   ]
  },
  {
   "cell_type": "code",
   "execution_count": 2,
   "metadata": {},
   "outputs": [],
   "source": [
    "import os\n",
    "from dotenv import load_dotenv, find_dotenv\n",
    "import nest_asyncio\n",
    "import warnings\n",
    "\n",
    "_ = load_dotenv(find_dotenv())\n",
    "nest_asyncio.apply()\n",
    "warnings.filterwarnings('ignore')"
   ]
  },
  {
   "cell_type": "code",
   "execution_count": 3,
   "metadata": {},
   "outputs": [],
   "source": [
    "from llama_index.readers.web import SimpleWebPageReader\n",
    "from llama_index.core import (\n",
    "    Settings,\n",
    "    VectorStoreIndex,\n",
    "    StorageContext,\n",
    "    load_index_from_storage\n",
    ")\n",
    "from llama_index.llms.bedrock_converse import BedrockConverse\n",
    "from llama_index.embeddings.bedrock import BedrockEmbedding\n",
    "from IPython.display import Markdown, display"
   ]
  },
  {
   "cell_type": "code",
   "execution_count": 4,
   "metadata": {},
   "outputs": [],
   "source": [
    "from llama_index.readers.web import SimpleWebPageReader\n",
    "import requests\n",
    "from llama_index.core import Document\n",
    "\n",
    "class CustomWebPageReader(SimpleWebPageReader):\n",
    "    \"\"\"\n",
    "    Many websites, including Investopedia, require headers like User-Agent to be set in the request to return the correct content.\n",
    "    To fix this, we'll modify the load_data method in the SimpleWebPageReader class to include appropriate headers.\n",
    "    \"\"\"\n",
    "    \n",
    "    def load_data(self, urls):\n",
    "        if not isinstance(urls, list):\n",
    "            raise ValueError(\"urls must be a list of strings.\")\n",
    "        documents = []\n",
    "        headers = {\n",
    "            'User-Agent': 'Mozilla/5.0 (Windows NT 10.0; Win64; x64) AppleWebKit/537.36 (KHTML, like Gecko) Chrome/58.0.3029.110 Safari/537.3'\n",
    "        }\n",
    "        for url in urls:\n",
    "            response = requests.get(url, headers=headers).text\n",
    "            if self.html_to_text:\n",
    "                import html2text\n",
    "                response = html2text.html2text(response)\n",
    "\n",
    "            metadata = None\n",
    "            if self._metadata_fn is not None:\n",
    "                metadata = self._metadata_fn(url)\n",
    "\n",
    "            documents.append(Document(text=response, id_=url, metadata=metadata or {}))\n",
    "\n",
    "        return documents\n",
    "\n",
    "links = [\n",
    "    \"https://www.investopedia.com/terms/s/stockmarket.asp\",\n",
    "    \"https://www.investopedia.com/ask/answers/difference-between-options-and-futures/\",\n",
    "    \"https://www.investopedia.com/financial-edge/0411/5-essential-things-you-need-to-know-about-every-stock-you-buy.aspx\",\n",
    "    \"https://www.investopedia.com/articles/fundamental/04/063004.asp\",\n",
    "    \"https://www.investopedia.com/terms/t/technicalanalysis.asp\",\n",
    "    \"https://www.investopedia.com/terms/i/ichimoku-cloud.asp\",\n",
    "    \"https://www.investopedia.com/terms/a/aroon.asp\",  \n",
    "    \"https://www.investopedia.com/terms/b/bollingerbands.asp\",\n",
    "    \"https://www.investopedia.com/articles/forex/05/macddiverge.asp\",\n",
    "    \"https://www.investopedia.com/terms/a/accumulationdistribution.asp\",\n",
    "    \"https://www.investopedia.com/terms/s/stochasticoscillator.asp\",\n",
    "    \"https://www.investopedia.com/terms/s/stochrsi.asp\",\n",
    "    \"https://www.investopedia.com/terms/p/price-earningsratio.asp\",\n",
    "    \"https://www.investopedia.com/terms/p/price-to-bookratio.asp\",\n",
    "    \"https://www.investopedia.com/terms/p/price-to-salesratio.asp\",\n",
    "    \"https://www.investopedia.com/terms/q/quickratio.asp\"\n",
    "]"
   ]
  },
  {
   "cell_type": "code",
   "execution_count": 5,
   "metadata": {},
   "outputs": [],
   "source": [
    "docs = CustomWebPageReader(\n",
    "    html_to_text=True\n",
    ").load_data(urls=links)"
   ]
  },
  {
   "cell_type": "code",
   "execution_count": 6,
   "metadata": {},
   "outputs": [
    {
     "name": "stderr",
     "output_type": "stream",
     "text": [
      "Both client and aclient are provided. If using `:memory:` mode, the data between clients is not synced.\n"
     ]
    },
    {
     "data": {
      "application/vnd.jupyter.widget-view+json": {
       "model_id": "ef8d65df7c8c4487981c3a024c10313b",
       "version_major": 2,
       "version_minor": 0
      },
      "text/plain": [
       "Fetching 6 files:   0%|          | 0/6 [00:00<?, ?it/s]"
      ]
     },
     "metadata": {},
     "output_type": "display_data"
    },
    {
     "data": {
      "application/vnd.jupyter.widget-view+json": {
       "model_id": "28e25aa47f3f4de99f251c5d9470e6fc",
       "version_major": 2,
       "version_minor": 0
      },
      "text/plain": [
       "Fetching 6 files:   0%|          | 0/6 [00:00<?, ?it/s]"
      ]
     },
     "metadata": {},
     "output_type": "display_data"
    },
    {
     "data": {
      "application/vnd.jupyter.widget-view+json": {
       "model_id": "cc5399fe826e4de09c8519c054706140",
       "version_major": 2,
       "version_minor": 0
      },
      "text/plain": [
       "Fetching 6 files:   0%|          | 0/6 [00:00<?, ?it/s]"
      ]
     },
     "metadata": {},
     "output_type": "display_data"
    },
    {
     "data": {
      "application/vnd.jupyter.widget-view+json": {
       "model_id": "c0c51f2ac319467c9b4748f78e7a5829",
       "version_major": 2,
       "version_minor": 0
      },
      "text/plain": [
       "Fetching 6 files:   0%|          | 0/6 [00:00<?, ?it/s]"
      ]
     },
     "metadata": {},
     "output_type": "display_data"
    }
   ],
   "source": [
    "import qdrant_client\n",
    "from llama_index.vector_stores.qdrant import QdrantVectorStore\n",
    "\n",
    "client = qdrant_client.QdrantClient(\"http://localhost:6333\")\n",
    "aclient = qdrant_client.AsyncQdrantClient(\"http://localhost:6333\")\n",
    "\n",
    "if client.collection_exists(\"investopedia\"):\n",
    "    client.delete_collection(\"investopedia\")\n",
    "\n",
    "vector_store = QdrantVectorStore(\n",
    "    collection_name=\"investopedia\",\n",
    "    client=client,\n",
    "    aclient=aclient,\n",
    "    fastembed_sparse_model=\"Qdrant/bm42-all-minilm-l6-v2-attentions\",\n",
    ")"
   ]
  },
  {
   "cell_type": "code",
   "execution_count": 7,
   "metadata": {},
   "outputs": [],
   "source": [
    "Settings.llm = BedrockConverse(\n",
    "    model = \"anthropic.claude-3-5-sonnet-20240620-v1:0\",\n",
    "    aws_access_key_id = os.environ[\"AWS_ACCESS_KEY\"],\n",
    "    aws_secret_access_key = os.environ[\"AWS_SECRET_ACCESS_KEY\"],\n",
    "    region_name = \"us-east-1\"\n",
    ")\n",
    "Settings.embed_model = BedrockEmbedding(\n",
    "    model = \"amazon.titan-embed-text-v1\",\n",
    "    aws_access_key_id = os.environ[\"AWS_ACCESS_KEY\"],\n",
    "    aws_secret_access_key = os.environ[\"AWS_SECRET_ACCESS_KEY\"],\n",
    "    aws_region_name = os.environ[\"AWS_DEFAULT_REGION\"]\n",
    ")"
   ]
  },
  {
   "cell_type": "code",
   "execution_count": 8,
   "metadata": {},
   "outputs": [],
   "source": [
    "storage_context = StorageContext.from_defaults(vector_store=vector_store)\n",
    "index = VectorStoreIndex.from_documents(\n",
    "    docs,\n",
    "    storage_context=storage_context\n",
    ")"
   ]
  },
  {
   "cell_type": "markdown",
   "metadata": {},
   "source": [
    "Test qdrant client"
   ]
  },
  {
   "cell_type": "code",
   "execution_count": 9,
   "metadata": {},
   "outputs": [
    {
     "data": {
      "text/markdown": [
       "<b>The Aroon indicator is a technical analysis tool used to identify changes in price trends and assess the strength of those trends. It consists of two main components:\n",
       "\n",
       "1. The AroonUp line, which measures the time since the last 25-period high\n",
       "2. The AroonDown line, which measures the time since the last 25-period low\n",
       "\n",
       "These lines fluctuate between 0 and 100, with higher values indicating stronger trends. The indicator helps traders determine whether an asset is in an uptrend, downtrend, or consolidating.\n",
       "\n",
       "Key points about the Aroon indicator:\n",
       "\n",
       "- Readings above 50 suggest a high or low occurred within the last 12.5 periods\n",
       "- Values near 100 indicate a very recent high or low\n",
       "- Crossovers between the AroonUp and AroonDown lines can signal potential trend changes\n",
       "- When both lines are below 50, it may indicate price consolidation\n",
       "\n",
       "Traders use the Aroon indicator to identify trend strength, potential reversals, and entry or exit points in the market. However, it's generally recommended to use this indicator in conjunction with other technical analysis tools for more comprehensive trading decisions.</b>"
      ],
      "text/plain": [
       "<IPython.core.display.Markdown object>"
      ]
     },
     "metadata": {},
     "output_type": "display_data"
    }
   ],
   "source": [
    "query_engine = index.as_query_engine(similarity_top_k=4, sparse_top_k=10)\n",
    "\n",
    "response = query_engine.query(\"What is the Aroon indicator?\")\n",
    "\n",
    "display(Markdown(f\"<b>{response}</b>\"))"
   ]
  },
  {
   "cell_type": "code",
   "execution_count": 11,
   "metadata": {},
   "outputs": [
    {
     "data": {
      "text/markdown": [
       "<b>The Aroon indicator is a technical analysis tool used to identify changes in price trends and assess the strength of those trends. It consists of two main components:\n",
       "\n",
       "1. The AroonUp line\n",
       "2. The AroonDown line\n",
       "\n",
       "These lines measure the time between highs and lows over a specified period, typically 25 periods. The indicator works on the principle that strong uptrends will regularly see new highs, while strong downtrends will regularly see new lows.\n",
       "\n",
       "The Aroon indicator ranges from 0 to 100. Readings above 50 suggest a high or low occurred within the last 12.5 periods, while readings near 100 indicate a very recent high or low.\n",
       "\n",
       "Traders use the Aroon indicator to:\n",
       "\n",
       "1. Identify trend changes\n",
       "2. Assess trend strength\n",
       "3. Spot potential buy or sell signals through crossovers of the AroonUp and AroonDown lines\n",
       "\n",
       "When the AroonUp line is above the AroonDown line, it suggests bullish price behavior. Conversely, when the AroonDown line is above the AroonUp line, it indicates bearish price behavior.\n",
       "\n",
       "The Aroon indicator was developed by Tushar Chande and is considered useful for analyzing trend changes and strength in various financial markets.</b>"
      ],
      "text/plain": [
       "<IPython.core.display.Markdown object>"
      ]
     },
     "metadata": {},
     "output_type": "display_data"
    }
   ],
   "source": [
    "def load_index(qdrant_vector_store: QdrantVectorStore,\n",
    "               embed_model):\n",
    "    return VectorStoreIndex.from_vector_store(\n",
    "        qdrant_vector_store,\n",
    "        embed_model\n",
    "    ) \n",
    "    \n",
    "index = load_index(vector_store, Settings.embed_model)\n",
    "query_engine = index.as_query_engine(similarity_top_k=4, sparse_top_k=10)\n",
    "response = query_engine.query(\"What is the Aroon indicator?\")\n",
    "\n",
    "display(Markdown(f\"<b>{response}</b>\"))\n"
   ]
  },
  {
   "cell_type": "code",
   "execution_count": 12,
   "metadata": {},
   "outputs": [
    {
     "name": "stdout",
     "output_type": "stream",
     "text": [
      "> Running step 89f0a603-99ce-4aab-b81e-dcfd244899db. Step input: What are the advantages and disadvantages of the MACD?\n",
      "\u001b[1;3;38;5;200mThought: The current language of the user is: English. To answer this question about the MACD (Moving Average Convergence Divergence), I need to gather information about its advantages and disadvantages. I'll use the investopedia_tool to get this information.\n",
      "Action: investopedia_tool\n",
      "Action Input: {'input': 'MACD advantages and disadvantages'}\n",
      "\u001b[0m\u001b[1;3;34mObservation: Thought: I can answer this question using the information provided in the context. I'll summarize the advantages and disadvantages of MACD.\n",
      "\n",
      "Answer: \n",
      "\n",
      "The Moving Average Convergence Divergence (MACD) indicator has several advantages and disadvantages:\n",
      "\n",
      "Advantages:\n",
      "1. Trend-following: MACD is effective at identifying trends and momentum in price movements.\n",
      "2. Versatility: It can be used in various markets, including stocks, bonds, commodities, and forex.\n",
      "3. Multiple strategies: Traders can employ different MACD strategies, such as histogram analysis, crossover strategy, and zero-cross strategy.\n",
      "4. Combination with other indicators: MACD can be used in conjunction with other technical indicators like RSI and SMA for more comprehensive analysis.\n",
      "\n",
      "Disadvantages:\n",
      "1. False signals: MACD can produce false reversal signals, leading to potential losses if traders act on them without confirmation.\n",
      "2. Ineffective in sideways markets: MACD tends to drift towards the zero line in range-bound markets, making it less reliable in these conditions.\n",
      "3. Lagging indicator: The MACD zero-cross is a lagging indicator, which may cause traders to enter positions later than optimal.\n",
      "4. Potential for misinterpretation: The complexity of MACD can lead to misinterpretation, especially for inexperienced traders.\n",
      "\n",
      "It's important to note that while MACD is a popular and useful tool, it should be used in conjunction with other analysis methods and risk management strategies for more effective trading decisions.\n",
      "\u001b[0m> Running step 24111d2c-f03a-4ca6-9f0c-a37cb5bf4c71. Step input: None\n",
      "\u001b[1;3;38;5;200mThought: I can answer without using any more tools. I'll use the user's language to answer.\n",
      "Answer: The Moving Average Convergence Divergence (MACD) indicator has several advantages and disadvantages:\n",
      "\n",
      "Advantages:\n",
      "1. Trend identification: MACD is excellent at identifying trends and momentum in price movements, helping traders spot potential entry and exit points.\n",
      "2. Versatility: It can be applied to various financial markets, including stocks, bonds, commodities, and forex.\n",
      "3. Multiple strategies: Traders can use different MACD strategies, such as histogram analysis, crossover strategy, and zero-cross strategy, providing flexibility in trading approaches.\n",
      "4. Complementary tool: MACD works well in combination with other technical indicators like RSI and SMA, allowing for more comprehensive market analysis.\n",
      "\n",
      "Disadvantages:\n",
      "1. False signals: MACD can sometimes produce false reversal signals, which may lead to losses if traders act on them without additional confirmation.\n",
      "2. Less effective in sideways markets: In range-bound or consolidating markets, MACD tends to drift towards the zero line, making it less reliable for trading decisions.\n",
      "3. Lagging indicator: The MACD zero-cross is a lagging indicator, which means traders might enter positions later than optimal, potentially missing out on some profits.\n",
      "4. Complexity: The MACD's multiple components (two moving averages and a histogram) can be challenging for novice traders to interpret correctly, leading to potential misuse.\n",
      "\n",
      "It's important to remember that while MACD is a popular and useful technical analysis tool, it should be used in conjunction with other analysis methods and proper risk management strategies for more effective trading decisions.\n",
      "\u001b[0m"
     ]
    },
    {
     "data": {
      "text/markdown": [
       "<b>The Moving Average Convergence Divergence (MACD) indicator has several advantages and disadvantages:\n",
       "\n",
       "Advantages:\n",
       "1. Trend identification: MACD is excellent at identifying trends and momentum in price movements, helping traders spot potential entry and exit points.\n",
       "2. Versatility: It can be applied to various financial markets, including stocks, bonds, commodities, and forex.\n",
       "3. Multiple strategies: Traders can use different MACD strategies, such as histogram analysis, crossover strategy, and zero-cross strategy, providing flexibility in trading approaches.\n",
       "4. Complementary tool: MACD works well in combination with other technical indicators like RSI and SMA, allowing for more comprehensive market analysis.\n",
       "\n",
       "Disadvantages:\n",
       "1. False signals: MACD can sometimes produce false reversal signals, which may lead to losses if traders act on them without additional confirmation.\n",
       "2. Less effective in sideways markets: In range-bound or consolidating markets, MACD tends to drift towards the zero line, making it less reliable for trading decisions.\n",
       "3. Lagging indicator: The MACD zero-cross is a lagging indicator, which means traders might enter positions later than optimal, potentially missing out on some profits.\n",
       "4. Complexity: The MACD's multiple components (two moving averages and a histogram) can be challenging for novice traders to interpret correctly, leading to potential misuse.\n",
       "\n",
       "It's important to remember that while MACD is a popular and useful technical analysis tool, it should be used in conjunction with other analysis methods and proper risk management strategies for more effective trading decisions.</b>"
      ],
      "text/plain": [
       "<IPython.core.display.Markdown object>"
      ]
     },
     "metadata": {},
     "output_type": "display_data"
    }
   ],
   "source": [
    "from llama_index.core.agent import ReActAgent\n",
    "from llama_index.core.tools import (\n",
    "    QueryEngineTool,\n",
    "    ToolMetadata\n",
    ")\n",
    "\n",
    "query_engine_tool = [\n",
    "    QueryEngineTool(\n",
    "        query_engine=query_engine,\n",
    "        metadata = ToolMetadata(\n",
    "            name=\"investopedia_tool\",\n",
    "            description = (\n",
    "                \"Provides conceptual information relating to the stock market, \"\n",
    "                \"stock market instruments such as options and futures, \"\n",
    "                \"as well as conceptual understanding for metrics used in \"\n",
    "                \"technical analysis and fundamental analysis.\"\n",
    "            )\n",
    "        )\n",
    "    )\n",
    "]\n",
    "\n",
    "agent = ReActAgent.from_tools(\n",
    "    tools = query_engine_tool,\n",
    "    verbose = True\n",
    ")\n",
    "\n",
    "response = agent.chat(\n",
    "    \"What are the advantages and disadvantages of the MACD?\"\n",
    ")\n",
    "\n",
    "display(\n",
    "    Markdown(\n",
    "        f\"<b>{response}</b>\"\n",
    "    )\n",
    ")"
   ]
  },
  {
   "cell_type": "code",
   "execution_count": null,
   "metadata": {},
   "outputs": [],
   "source": []
  }
 ],
 "metadata": {
  "kernelspec": {
   "display_name": "llamaindex",
   "language": "python",
   "name": "python3"
  },
  "language_info": {
   "codemirror_mode": {
    "name": "ipython",
    "version": 3
   },
   "file_extension": ".py",
   "mimetype": "text/x-python",
   "name": "python",
   "nbconvert_exporter": "python",
   "pygments_lexer": "ipython3",
   "version": "3.12.2"
  }
 },
 "nbformat": 4,
 "nbformat_minor": 2
}
