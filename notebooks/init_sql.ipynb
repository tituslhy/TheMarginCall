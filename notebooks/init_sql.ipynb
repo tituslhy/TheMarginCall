{
 "cells": [
  {
   "cell_type": "code",
   "execution_count": 1,
   "metadata": {},
   "outputs": [],
   "source": [
    "%load_ext autoreload\n",
    "%autoreload 2"
   ]
  },
  {
   "cell_type": "code",
   "execution_count": 2,
   "metadata": {},
   "outputs": [],
   "source": [
    "import requests\n",
    "import yfinance as yf\n",
    "import pandas as pd\n",
    "from sqlalchemy import (\n",
    "    create_engine,\n",
    "    MetaData,\n",
    "    Table,\n",
    "    Column,\n",
    "    Float,\n",
    "    DateTime,\n",
    "    Integer\n",
    ")\n",
    "import sqlite3\n",
    "from typing import Optional, Literal\n",
    "from datetime import datetime \n",
    "from dateutil.relativedelta import relativedelta"
   ]
  },
  {
   "cell_type": "code",
   "execution_count": 3,
   "metadata": {},
   "outputs": [],
   "source": [
    "def get_ticker(company_name: str):\n",
    "    yfinance = \"https://query2.finance.yahoo.com/v1/finance/search\"\n",
    "    user_agent = 'Mozilla/5.0 (Windows NT 10.0; Win64; x64) AppleWebKit/537.36 (KHTML, like Gecko) Chrome/108.0.0.0 Safari/537.36'\n",
    "    params = {\"q\": company_name, \"quotes_count\": 1, \"country\": \"United States\"}\n",
    "\n",
    "    res = requests.get(url=yfinance, params=params, headers={'User-Agent': user_agent})\n",
    "    data = res.json()\n",
    "\n",
    "    company_code = data['quotes'][0]['symbol']\n",
    "    return company_code"
   ]
  },
  {
   "cell_type": "code",
   "execution_count": 4,
   "metadata": {},
   "outputs": [],
   "source": [
    "def get_start_date(years: int = 10):\n",
    "    today = datetime.today()\n",
    "    return (today-relativedelta(years=years)).strftime(\"%Y-%m-%d\")"
   ]
  },
  {
   "cell_type": "code",
   "execution_count": 5,
   "metadata": {},
   "outputs": [],
   "source": [
    "def get_stock_data(\n",
    "    ticker: str,\n",
    "    start_date: Optional[str] = None) -> pd.DataFrame:\n",
    "    \"\"\"Gets the daily historical prices and volume for a ticker across a specified period\"\"\"\n",
    "    \n",
    "    if start_date is not None:\n",
    "        return yf.download(\n",
    "            ticker,\n",
    "            start = start_date,\n",
    "            end = datetime.today().strftime(\"%Y-%m-%d\")\n",
    "            )\n",
    "    return yf.download(\n",
    "        ticker,\n",
    "        start = get_start_date(),\n",
    "        end = datetime.today().strftime(\"%Y-%m-%d\")\n",
    "    )            \n",
    "    \n",
    "def connect_sql(db_path: str):\n",
    "    conn = sqlite3.connect(db_path)\n",
    "    sql_query = \"\"\"SELECT name FROM sqlite_master WHERE type='table';\"\"\"\n",
    "    cursor = conn.cursor()\n",
    "    cursor.execute(sql_query)\n",
    "    tables = cursor.fetchall()\n",
    "    tables = [table[0] for table in tables]\n",
    "    engine = create_engine(f\"sqlite:///{db_path}\")\n",
    "    return engine, tables"
   ]
  },
  {
   "cell_type": "markdown",
   "metadata": {},
   "source": [
    "## Start ingesting"
   ]
  },
  {
   "cell_type": "code",
   "execution_count": 17,
   "metadata": {},
   "outputs": [],
   "source": [
    "def create_db_table(\n",
    "    db_path: str, \n",
    "    company_name: str,\n",
    "):\n",
    "    engine, tables = connect_sql(db_path)\n",
    "    metadata_obj = MetaData()\n",
    "    table_name = get_ticker(company_name)\n",
    "    table = Table(\n",
    "        table_name,\n",
    "        metadata_obj,\n",
    "        Column(\"id\", Integer, primary_key=True),\n",
    "        Column(\"date\", DateTime),\n",
    "        Column(\"open\", Float),\n",
    "        Column(\"high\", Float),\n",
    "        Column(\"low\", Float),\n",
    "        Column(\"close\", Float),\n",
    "        Column(\"volume\", Integer),\n",
    "    )\n",
    "    metadata_obj.create_all(engine)\n",
    "    conn = sqlite3.connect(db_path)\n",
    "    if table_name in tables: #update table\n",
    "        start_date = pd.read_sql(\n",
    "                f\"\"\"\n",
    "                SELECT Date FROM {table_name} \n",
    "                ORDER by Date DESC\n",
    "                LIMIT 1\n",
    "                \"\"\",\n",
    "                conn\n",
    "            )['Date'].values[0].split(\" \")[0]\n",
    "        data = get_stock_data(ticker = table_name,\n",
    "                              start_date = start_date).reset_index()\n",
    "        data.to_sql(\n",
    "            table_name,\n",
    "            conn,\n",
    "            if_exists='replace',\n",
    "            index = False\n",
    "        )\n",
    "    else:\n",
    "        data = get_stock_data(ticker = table_name).reset_index()\n",
    "        data.to_sql(\n",
    "            table_name,\n",
    "            conn,\n",
    "            index = False,\n",
    "            if_exists = \"replace\"\n",
    "        )"
   ]
  },
  {
   "cell_type": "code",
   "execution_count": 18,
   "metadata": {},
   "outputs": [
    {
     "name": "stderr",
     "output_type": "stream",
     "text": [
      "[*********************100%%**********************]  1 of 1 completed\n"
     ]
    }
   ],
   "source": [
    "create_db_table(\n",
    "    db_path = \"../database/stocks.db\",\n",
    "    company_name='illumina'\n",
    ")"
   ]
  },
  {
   "cell_type": "code",
   "execution_count": 19,
   "metadata": {},
   "outputs": [
    {
     "data": {
      "application/vnd.jupyter.widget-view+json": {
       "model_id": "646729a570ca4d56a88427cdd30cb1a8",
       "version_major": 2,
       "version_minor": 0
      },
      "text/plain": [
       "  0%|          | 0/5 [00:00<?, ?it/s]"
      ]
     },
     "metadata": {},
     "output_type": "display_data"
    },
    {
     "name": "stderr",
     "output_type": "stream",
     "text": [
      "[*********************100%%**********************]  1 of 1 completed\n",
      "[*********************100%%**********************]  1 of 1 completed\n",
      "[*********************100%%**********************]  1 of 1 completed\n",
      "[*********************100%%**********************]  1 of 1 completed\n",
      "[*********************100%%**********************]  1 of 1 completed\n"
     ]
    }
   ],
   "source": [
    "from tqdm.notebook import tqdm\n",
    "\n",
    "for company in tqdm([\n",
    "    \"apple\",\n",
    "    \"nvidia\",\n",
    "    \"tesla\",\n",
    "    \"microsoft\",\n",
    "    \"amgen\"\n",
    "]):\n",
    "    create_db_table(db_path=\"../database/stocks.db\", company_name=company)"
   ]
  },
  {
   "cell_type": "code",
   "execution_count": 21,
   "metadata": {},
   "outputs": [
    {
     "data": {
      "text/plain": [
       "['ILMN', 'AAPL', 'NVDA', 'TSLA', 'MSFT', 'AMGN']"
      ]
     },
     "execution_count": 21,
     "metadata": {},
     "output_type": "execute_result"
    }
   ],
   "source": [
    "_, tables = connect_sql(\"../database/stocks.db\")\n",
    "tables"
   ]
  },
  {
   "cell_type": "markdown",
   "metadata": {},
   "source": [
    "Test connection"
   ]
  },
  {
   "cell_type": "code",
   "execution_count": 32,
   "metadata": {},
   "outputs": [
    {
     "data": {
      "text/html": [
       "<div>\n",
       "<style scoped>\n",
       "    .dataframe tbody tr th:only-of-type {\n",
       "        vertical-align: middle;\n",
       "    }\n",
       "\n",
       "    .dataframe tbody tr th {\n",
       "        vertical-align: top;\n",
       "    }\n",
       "\n",
       "    .dataframe thead th {\n",
       "        text-align: right;\n",
       "    }\n",
       "</style>\n",
       "<table border=\"1\" class=\"dataframe\">\n",
       "  <thead>\n",
       "    <tr style=\"text-align: right;\">\n",
       "      <th></th>\n",
       "      <th>Date</th>\n",
       "      <th>Open</th>\n",
       "      <th>High</th>\n",
       "      <th>Low</th>\n",
       "      <th>Close</th>\n",
       "      <th>Adj Close</th>\n",
       "      <th>Volume</th>\n",
       "    </tr>\n",
       "  </thead>\n",
       "  <tbody>\n",
       "    <tr>\n",
       "      <th>0</th>\n",
       "      <td>2024-07-26 00:00:00</td>\n",
       "      <td>334.559998</td>\n",
       "      <td>338.940002</td>\n",
       "      <td>333.279999</td>\n",
       "      <td>334.850006</td>\n",
       "      <td>334.850006</td>\n",
       "      <td>1515200</td>\n",
       "    </tr>\n",
       "    <tr>\n",
       "      <th>1</th>\n",
       "      <td>2024-07-25 00:00:00</td>\n",
       "      <td>335.989990</td>\n",
       "      <td>346.850006</td>\n",
       "      <td>333.019989</td>\n",
       "      <td>334.299988</td>\n",
       "      <td>334.299988</td>\n",
       "      <td>2435700</td>\n",
       "    </tr>\n",
       "    <tr>\n",
       "      <th>2</th>\n",
       "      <td>2024-07-24 00:00:00</td>\n",
       "      <td>333.250000</td>\n",
       "      <td>337.179993</td>\n",
       "      <td>330.339996</td>\n",
       "      <td>335.609985</td>\n",
       "      <td>335.609985</td>\n",
       "      <td>2459300</td>\n",
       "    </tr>\n",
       "    <tr>\n",
       "      <th>3</th>\n",
       "      <td>2024-07-23 00:00:00</td>\n",
       "      <td>334.359985</td>\n",
       "      <td>337.040009</td>\n",
       "      <td>331.309998</td>\n",
       "      <td>333.239990</td>\n",
       "      <td>333.239990</td>\n",
       "      <td>1458200</td>\n",
       "    </tr>\n",
       "    <tr>\n",
       "      <th>4</th>\n",
       "      <td>2024-07-22 00:00:00</td>\n",
       "      <td>333.230011</td>\n",
       "      <td>337.089996</td>\n",
       "      <td>332.470001</td>\n",
       "      <td>335.970001</td>\n",
       "      <td>335.970001</td>\n",
       "      <td>1733700</td>\n",
       "    </tr>\n",
       "    <tr>\n",
       "      <th>5</th>\n",
       "      <td>2024-07-19 00:00:00</td>\n",
       "      <td>333.649994</td>\n",
       "      <td>333.980011</td>\n",
       "      <td>328.429993</td>\n",
       "      <td>331.290009</td>\n",
       "      <td>331.290009</td>\n",
       "      <td>1848700</td>\n",
       "    </tr>\n",
       "    <tr>\n",
       "      <th>6</th>\n",
       "      <td>2024-07-18 00:00:00</td>\n",
       "      <td>334.200012</td>\n",
       "      <td>338.980011</td>\n",
       "      <td>330.670013</td>\n",
       "      <td>330.970001</td>\n",
       "      <td>330.970001</td>\n",
       "      <td>2228400</td>\n",
       "    </tr>\n",
       "    <tr>\n",
       "      <th>7</th>\n",
       "      <td>2024-07-17 00:00:00</td>\n",
       "      <td>330.000000</td>\n",
       "      <td>336.609985</td>\n",
       "      <td>328.600006</td>\n",
       "      <td>335.670013</td>\n",
       "      <td>335.670013</td>\n",
       "      <td>1933200</td>\n",
       "    </tr>\n",
       "    <tr>\n",
       "      <th>8</th>\n",
       "      <td>2024-07-16 00:00:00</td>\n",
       "      <td>330.459991</td>\n",
       "      <td>335.910004</td>\n",
       "      <td>328.000000</td>\n",
       "      <td>333.140015</td>\n",
       "      <td>333.140015</td>\n",
       "      <td>1879400</td>\n",
       "    </tr>\n",
       "    <tr>\n",
       "      <th>9</th>\n",
       "      <td>2024-07-15 00:00:00</td>\n",
       "      <td>331.880005</td>\n",
       "      <td>332.809998</td>\n",
       "      <td>327.869995</td>\n",
       "      <td>330.149994</td>\n",
       "      <td>330.149994</td>\n",
       "      <td>1688800</td>\n",
       "    </tr>\n",
       "  </tbody>\n",
       "</table>\n",
       "</div>"
      ],
      "text/plain": [
       "                  Date        Open        High         Low       Close  \\\n",
       "0  2024-07-26 00:00:00  334.559998  338.940002  333.279999  334.850006   \n",
       "1  2024-07-25 00:00:00  335.989990  346.850006  333.019989  334.299988   \n",
       "2  2024-07-24 00:00:00  333.250000  337.179993  330.339996  335.609985   \n",
       "3  2024-07-23 00:00:00  334.359985  337.040009  331.309998  333.239990   \n",
       "4  2024-07-22 00:00:00  333.230011  337.089996  332.470001  335.970001   \n",
       "5  2024-07-19 00:00:00  333.649994  333.980011  328.429993  331.290009   \n",
       "6  2024-07-18 00:00:00  334.200012  338.980011  330.670013  330.970001   \n",
       "7  2024-07-17 00:00:00  330.000000  336.609985  328.600006  335.670013   \n",
       "8  2024-07-16 00:00:00  330.459991  335.910004  328.000000  333.140015   \n",
       "9  2024-07-15 00:00:00  331.880005  332.809998  327.869995  330.149994   \n",
       "\n",
       "    Adj Close   Volume  \n",
       "0  334.850006  1515200  \n",
       "1  334.299988  2435700  \n",
       "2  335.609985  2459300  \n",
       "3  333.239990  1458200  \n",
       "4  335.970001  1733700  \n",
       "5  331.290009  1848700  \n",
       "6  330.970001  2228400  \n",
       "7  335.670013  1933200  \n",
       "8  333.140015  1879400  \n",
       "9  330.149994  1688800  "
      ]
     },
     "execution_count": 32,
     "metadata": {},
     "output_type": "execute_result"
    }
   ],
   "source": [
    "conn = sqlite3.connect(\"../database/stocks.db\")\n",
    "pd.read_sql(\n",
    "    \"\"\"\n",
    "    SELECT * FROM AMGN \n",
    "    ORDER BY Date DESC\n",
    "    LIMIT 10\n",
    "    \"\"\",\n",
    "    conn\n",
    ")"
   ]
  },
  {
   "cell_type": "code",
   "execution_count": null,
   "metadata": {},
   "outputs": [],
   "source": []
  }
 ],
 "metadata": {
  "kernelspec": {
   "display_name": "llamaindex",
   "language": "python",
   "name": "python3"
  },
  "language_info": {
   "codemirror_mode": {
    "name": "ipython",
    "version": 3
   },
   "file_extension": ".py",
   "mimetype": "text/x-python",
   "name": "python",
   "nbconvert_exporter": "python",
   "pygments_lexer": "ipython3",
   "version": "3.12.2"
  }
 },
 "nbformat": 4,
 "nbformat_minor": 2
}
