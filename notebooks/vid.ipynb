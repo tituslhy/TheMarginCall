{
 "cells": [
  {
   "cell_type": "code",
   "execution_count": 1,
   "metadata": {},
   "outputs": [],
   "source": [
    "import cv2"
   ]
  },
  {
   "cell_type": "code",
   "execution_count": 2,
   "metadata": {},
   "outputs": [],
   "source": [
    "input_file = \"../images/video.mp4\"\n",
    "cap = cv2.VideoCapture(input_file)\n",
    "if not cap.isOpened():\n",
    "    print(\"Error: Could not open the input video file.\")\n",
    "    exit()\n",
    "\n",
    "output_file = '../images/compressed_video.mp4'\n",
    "fourcc = cv2.VideoWriter_fourcc(*'mp4v')  # Change this to your desired codec\n",
    "frame_size = (int(cap.get(cv2.CAP_PROP_FRAME_WIDTH)), int(cap.get(cv2.CAP_PROP_FRAME_HEIGHT)))\n",
    "frame_rate = int(cap.get(cv2.CAP_PROP_FPS))\n",
    "\n",
    "out = cv2.VideoWriter(output_file, fourcc, frame_rate, frame_size, isColor=True)\n",
    "\n",
    "if not out.isOpened():\n",
    "    print(\"Error: Could not create the output video file.\")\n",
    "    cap.release()\n",
    "    exit()\n",
    "\n",
    "while cap.isOpened():\n",
    "    ret, frame = cap.read()\n",
    "\n",
    "    if not ret:\n",
    "        break\n",
    "    \n",
    "    out.write(frame)\n",
    "\n",
    "cap.release()\n",
    "out.release()"
   ]
  },
  {
   "cell_type": "code",
   "execution_count": null,
   "metadata": {},
   "outputs": [],
   "source": []
  }
 ],
 "metadata": {
  "kernelspec": {
   "display_name": "llm",
   "language": "python",
   "name": "python3"
  },
  "language_info": {
   "codemirror_mode": {
    "name": "ipython",
    "version": 3
   },
   "file_extension": ".py",
   "mimetype": "text/x-python",
   "name": "python",
   "nbconvert_exporter": "python",
   "pygments_lexer": "ipython3",
   "version": "3.12.3"
  },
  "orig_nbformat": 4,
  "vscode": {
   "interpreter": {
    "hash": "82e2507e369a2c04f57febbb8f4f2d78d47547386c6ceb772e5963b93e9300c2"
   }
  }
 },
 "nbformat": 4,
 "nbformat_minor": 2
}
