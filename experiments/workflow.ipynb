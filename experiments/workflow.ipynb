{
 "cells": [
  {
   "cell_type": "code",
   "execution_count": 1,
   "metadata": {},
   "outputs": [],
   "source": [
    "%load_ext autoreload\n",
    "%autoreload 2"
   ]
  },
  {
   "cell_type": "code",
   "execution_count": 2,
   "metadata": {},
   "outputs": [],
   "source": [
    "import os\n",
    "from dotenv import load_dotenv, find_dotenv\n",
    "import nest_asyncio\n",
    "import warnings\n",
    "\n",
    "_ = load_dotenv(find_dotenv())\n",
    "nest_asyncio.apply()\n",
    "warnings.filterwarnings(\"ignore\")"
   ]
  },
  {
   "cell_type": "code",
   "execution_count": 3,
   "metadata": {},
   "outputs": [],
   "source": [
    "from llama_index.core import Settings\n",
    "from llama_index.llms.openai import OpenAI\n",
    "from llama_index.llms.gemini import Gemini\n",
    "from llama_index.embeddings.gemini import GeminiEmbedding\n",
    "\n",
    "import sys\n",
    "\n",
    "__curdir__ = os.getcwd()\n",
    "sys.path.append(\n",
    "    \"../tools\"\n",
    ")\n",
    "\n",
    "from calculator_tools import get_calculator_tool\n",
    "from data_analysis_tools import get_da_tools\n",
    "from fundamental_analysis_tools import get_fa_tools\n",
    "from search_tools import get_tavily_tool\n",
    "from technical_analysis_tools import get_ta_tools  \n",
    "\n",
    "Settings.llm = OpenAI(model=\"gpt-4o-mini\")\n",
    "Settings.embed_model = GeminiEmbedding()"
   ]
  },
  {
   "cell_type": "code",
   "execution_count": 4,
   "metadata": {},
   "outputs": [],
   "source": [
    "calculator_tool = get_calculator_tool()\n",
    "da_tool = get_da_tools()\n",
    "fa_tool = get_fa_tools()\n",
    "search_tool = get_tavily_tool()\n",
    "ta_tool = get_ta_tools()"
   ]
  },
  {
   "cell_type": "code",
   "execution_count": 5,
   "metadata": {},
   "outputs": [],
   "source": [
    "from llama_index.core.agent import FunctionCallingAgentWorker\n",
    "from llama_index.core.tools import FunctionTool\n",
    "from typing import List, Annotated, Literal\n",
    "\n",
    "def create_agent(\n",
    "    tools: Annotated[List[FunctionTool], \"List of tools\"]\n",
    "):\n",
    "    agent_worker = FunctionCallingAgentWorker.from_tools(tools)\n",
    "    return agent_worker.as_agent()\n",
    "\n",
    "DataAnalyst = create_agent(tools = da_tool)\n",
    "FundamentalAnalyst = create_agent(tools=[fa_tool])\n",
    "TechnicalAnalyst = create_agent(tools = ta_tool)\n",
    "Researcher = create_agent(tools=[*ta_tool, *calculator_tool])"
   ]
  },
  {
   "cell_type": "code",
   "execution_count": 12,
   "metadata": {},
   "outputs": [],
   "source": [
    "agents = {\n",
    "    \"DataAnalyst\": DataAnalyst,\n",
    "    \"FundamentalAnalyst\": FundamentalAnalyst,\n",
    "    \"TechnicalAnalyst\":TechnicalAnalyst,\n",
    "    \"Researcher\": Researcher,\n",
    "}"
   ]
  },
  {
   "attachments": {},
   "cell_type": "markdown",
   "metadata": {},
   "source": [
    "## Create Workflow"
   ]
  },
  {
   "attachments": {},
   "cell_type": "markdown",
   "metadata": {},
   "source": [
    "### Create router program"
   ]
  },
  {
   "cell_type": "code",
   "execution_count": 8,
   "metadata": {},
   "outputs": [],
   "source": [
    "from llama_index.core.program import LLMTextCompletionProgram\n",
    "from llama_index.core.bridge.pydantic import BaseModel\n",
    "\n",
    "VALID_AGENTS = Literal[\"DataAnalyst\", \"FundamentalAnalyst\", \"TechnicalAnalyst\", \"Researcher\"]\n",
    "\n",
    "class AgentRoute(BaseModel):\n",
    "    \"\"\"Defines which agent to route the tasks to\"\"\"\n",
    "    \n",
    "    agents: Annotated[List[VALID_AGENTS], \"The valid agents that can answer this question.\"]\n",
    "    \n",
    "prompt_template_str = \"\"\"\\\n",
    "Think of the agents that can best answer the user query: {query}.\n",
    "\"\"\"\n",
    "\n",
    "program = LLMTextCompletionProgram.from_defaults(\n",
    "    output_cls = AgentRoute,\n",
    "    prompt_template_str = prompt_template_str,\n",
    "    verbose = True,\n",
    "    llm = Gemini(model=\"models/gemini-1.5-flash\")\n",
    ")"
   ]
  },
  {
   "cell_type": "code",
   "execution_count": 9,
   "metadata": {},
   "outputs": [
    {
     "name": "stdout",
     "output_type": "stream",
     "text": [
      "['FundamentalAnalyst', 'TechnicalAnalyst', 'Researcher']\n"
     ]
    }
   ],
   "source": [
    "output = program(query=\"Should I invest in Illumina shares\")\n",
    "print(output.agents)"
   ]
  },
  {
   "attachments": {},
   "cell_type": "markdown",
   "metadata": {},
   "source": [
    "### Create workflow"
   ]
  },
  {
   "cell_type": "code",
   "execution_count": 10,
   "metadata": {},
   "outputs": [],
   "source": [
    "from llama_index.core.workflow import (\n",
    "    Event,\n",
    "    Context,\n",
    "    StartEvent,\n",
    "    StopEvent,\n",
    "    Workflow,\n",
    "    step,\n",
    ")"
   ]
  },
  {
   "cell_type": "code",
   "execution_count": 18,
   "metadata": {},
   "outputs": [],
   "source": [
    "class GetAgentsEvent(Event):\n",
    "    \"\"\"Event to get agents\"\"\"\n",
    "    \n",
    "    task: str\n",
    "    agents: Annotated[List[VALID_AGENTS], \"The agents that can answer the question\"]\n",
    "\n",
    "class AggregateResultsEvent(Event):\n",
    "    \"\"\"Event to aggregate results from individual agents\"\"\"\n",
    "    \n",
    "    task: str\n",
    "    aggregate_result: str\n",
    "\n",
    "# class ConsolidateResultsEvent(Event):\n",
    "#     \"\"\"Event to consolidate aggregated results\"\"\"\n",
    "    \n",
    "#     task: str\n",
    "#     final_result: str"
   ]
  },
  {
   "cell_type": "code",
   "execution_count": 19,
   "metadata": {},
   "outputs": [],
   "source": [
    "from llama_index.core.prompts import PromptTemplate\n",
    "\n",
    "CONSOLIDATE_TEMPLATE = PromptTemplate(\n",
    "    \"Craft a final answer to answer the question {task} using the following intermediate results: {aggregated_results}\"\n",
    ")"
   ]
  },
  {
   "cell_type": "code",
   "execution_count": 20,
   "metadata": {},
   "outputs": [],
   "source": [
    "class InvestmentWorkflow(Workflow):\n",
    "    \"\"\"Workflow for investment decisions\"\"\"\n",
    "    \n",
    "    @step(pass_context=True)\n",
    "    async def get_agents(\n",
    "        self, ctx: Context, ev: StartEvent\n",
    "    ) -> GetAgentsEvent:\n",
    "        \"\"\"Step to route to agents\"\"\"\n",
    "        \n",
    "        task = ev.get(\"task\")\n",
    "        program = LLMTextCompletionProgram.from_defaults(\n",
    "            output_cls = AgentRoute,\n",
    "            prompt_template_str = prompt_template_str,\n",
    "            verbose = True,\n",
    "            llm = Gemini(model=\"models/gemini-1.5-flash\")\n",
    "        )\n",
    "        ctx.agents = agents\n",
    "        ctx.llm = Gemini(model=\"models/gemini-1.5-flash\")\n",
    "        \n",
    "        if task is None:\n",
    "            raise ValueError(\"`task` cannot be None.\")\n",
    "        \n",
    "        output = program(query = task)\n",
    "        \n",
    "        return GetAgentsEvent(task=task, agents=output.agents)\n",
    "\n",
    "    @step(pass_context=True)\n",
    "    async def aggregate_results_event(\n",
    "        self, ctx: Context, ev: GetAgentsEvent\n",
    "    ) -> AggregateResultsEvent:\n",
    "        \"\"\"Step to aggregate results\"\"\"\n",
    "        \n",
    "        task = ev.task\n",
    "        agents_to_route = ev.agents\n",
    "        agents = ctx.agents\n",
    "        \n",
    "        responses = []\n",
    "        \n",
    "        for agent in agents_to_route:\n",
    "            response = agents[agent].chat(task)\n",
    "            responses.append(str(response))\n",
    "        \n",
    "        aggregate_result = \". \".join(responses)\n",
    "        \n",
    "        return AggregateResultsEvent(task=task, aggregate_result=aggregate_result)\n",
    "    \n",
    "    @step(pass_context=True)\n",
    "    async def consolidate_results_event(\n",
    "        self, ctx: Context, ev: AggregateResultsEvent\n",
    "    ) -> StopEvent:\n",
    "        \"\"\"Step to consolidate results\"\"\"\n",
    "        \n",
    "        task = ev.task\n",
    "        llm = ctx.llm \n",
    "        \n",
    "        ## Format prompt and get result\n",
    "        \n",
    "        prompt = CONSOLIDATE_TEMPLATE.format(\n",
    "            taks=task, aggregated_results = ev.aggregate_result\n",
    "        )\n",
    "        \n",
    "        result = llm.complete(prompt)\n",
    "        \n",
    "        return StopEvent(result = result)"
   ]
  },
  {
   "cell_type": "code",
   "execution_count": 21,
   "metadata": {},
   "outputs": [
    {
     "name": "stdout",
     "output_type": "stream",
     "text": [
      "InvestmentWorkflow.html\n"
     ]
    }
   ],
   "source": [
    "from llama_index.core.workflow import draw_all_possible_flows\n",
    "\n",
    "draw_all_possible_flows(InvestmentWorkflow, filename=\"InvestmentWorkflow.html\")"
   ]
  },
  {
   "cell_type": "code",
   "execution_count": null,
   "metadata": {},
   "outputs": [],
   "source": []
  }
 ],
 "metadata": {
  "kernelspec": {
   "display_name": "llm",
   "language": "python",
   "name": "python3"
  },
  "language_info": {
   "codemirror_mode": {
    "name": "ipython",
    "version": 3
   },
   "file_extension": ".py",
   "mimetype": "text/x-python",
   "name": "python",
   "nbconvert_exporter": "python",
   "pygments_lexer": "ipython3",
   "version": "3.12.3"
  },
  "orig_nbformat": 4,
  "vscode": {
   "interpreter": {
    "hash": "82e2507e369a2c04f57febbb8f4f2d78d47547386c6ceb772e5963b93e9300c2"
   }
  }
 },
 "nbformat": 4,
 "nbformat_minor": 2
}
